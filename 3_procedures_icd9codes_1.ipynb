{
 "cells": [
  {
   "attachments": {},
   "cell_type": "markdown",
   "id": "a40379ba",
   "metadata": {},
   "source": [
    "# ICD-9 cod\n"
   ]
  },
  {
   "cell_type": "code",
   "execution_count": 2,
   "id": "37aff1b9",
   "metadata": {},
   "outputs": [],
   "source": [
    "import numpy as np\n",
    "import pandas as pd\n",
    "import plotly.express as px\n",
    "import missingno\n",
    "import os\n",
    "import glob\n",
    "\n",
    "from __future__ import print_function\n",
    "\n",
    "#import psycopg2\n",
    "import datetime\n",
    "import sys\n",
    "from operator import itemgetter, attrgetter, methodcaller\n",
    "import numpy as np\n",
    "import itertools\n",
    "import os.path\n",
    "import matplotlib.pyplot as plt\n",
    "import math\n",
    "from multiprocessing import Pool, cpu_count\n",
    "\n",
    "#from utils import getConnection\n",
    "import polars as pl\n",
    "%matplotlib inline"
   ]
  },
  {
   "cell_type": "code",
   "execution_count": 4,
   "id": "f02bae1a",
   "metadata": {},
   "outputs": [],
   "source": [
    "\n",
    "#fiñtrado\n",
    "#df = pl.read_parquet(\"/Users/cgarciay/Desktop/Laval_Master_Computer/research/df_filtered.parquet\")\n",
    "\n",
    "df = pl.read_parquet(\"df_non_filtered.parquet\")"
   ]
  },
  {
   "cell_type": "code",
   "execution_count": 5,
   "id": "9590b5c4",
   "metadata": {},
   "outputs": [
    {
     "data": {
      "text/plain": [
       "(58976, 60)"
      ]
     },
     "execution_count": 5,
     "metadata": {},
     "output_type": "execute_result"
    }
   ],
   "source": [
    "df.shape"
   ]
  },
  {
   "attachments": {},
   "cell_type": "markdown",
   "id": "b0e989dd",
   "metadata": {},
   "source": [
    "### Comprobación que es procedures"
   ]
  },
  {
   "cell_type": "code",
   "execution_count": 6,
   "id": "7faca876",
   "metadata": {},
   "outputs": [
    {
     "ename": "NameError",
     "evalue": "name 'df_filtered' is not defined",
     "output_type": "error",
     "traceback": [
      "\u001b[0;31m---------------------------------------------------------------------------\u001b[0m",
      "\u001b[0;31mNameError\u001b[0m                                 Traceback (most recent call last)",
      "\u001b[0;32m/var/folders/xn/hrsr6_j92psb5bqf9kjzwv8w0000gp/T/ipykernel_20444/3942644956.py\u001b[0m in \u001b[0;36m<module>\u001b[0;34m\u001b[0m\n\u001b[0;32m----> 1\u001b[0;31m \u001b[0mdf_filtered\u001b[0m\u001b[0;34m\u001b[0m\u001b[0;34m\u001b[0m\u001b[0m\n\u001b[0m",
      "\u001b[0;31mNameError\u001b[0m: name 'df_filtered' is not defined"
     ]
    }
   ],
   "source": [
    "df_filtered"
   ]
  },
  {
   "cell_type": "code",
   "execution_count": 8,
   "id": "a28f0157",
   "metadata": {},
   "outputs": [],
   "source": [
    "d1 = '/Users/cgarciay/Desktop/Laval_Master_Computer/research/MIMIC//PROCEDURES_ICD.csv.gz'\n",
    "d2 = '/Users/cgarciay/Desktop/Laval_Master_Computer/research/ids_complete.csv'\n",
    "ids = pl.read_csv(d2)\n",
    "\n",
    "df_ = pl.read_csv(d1)\n",
    "df_filtered = df_.filter(pl.col('SUBJECT_ID').is_in( ids[\"0\"]))\n",
    "\n",
    "df_filtered = df_filtered.with_columns(pl.col(\"SUBJECT_ID\").cast(pl.Utf8))\n",
    "df_filtered = df_filtered.with_columns(pl.col(\"HADM_ID\").cast(pl.Utf8))\n",
    "\n",
    "aux =  pl.read_csv(di,infer_schema_length=0\n",
    "                      )\n",
    "#merge\n",
    "aux = aux.with_columns(pl.col(\"HADM_ID\").cast(pl.Utf8))\n",
    "aux = aux.groupby(['SUBJECT_ID','HADM_ID'], maintain_order=True).all()\n",
    "#NOTA  SE ELIMIA ICUSTARY_ID del archivo 'dataset/ICUSTAYS.csv.gz' ya que esta duplicado\"ICUSTAY_ID\"\n",
    "aux = aux.select(pl.exclude(\"ROW_ID\"))\n",
    "df_filtered=df_filtered.join(aux, on=['SUBJECT_ID','HADM_ID'], how=\"left\")\n",
    "\n",
    "                      \n",
    "                      \n"
   ]
  },
  {
   "cell_type": "code",
   "execution_count": 13,
   "id": "bffd903e",
   "metadata": {},
   "outputs": [
    {
     "data": {
      "text/plain": [
       "(52243, 4)"
      ]
     },
     "execution_count": 13,
     "metadata": {},
     "output_type": "execute_result"
    }
   ],
   "source": [
    "aux.shape"
   ]
  },
  {
   "cell_type": "code",
   "execution_count": 3,
   "id": "9a7bdafb",
   "metadata": {},
   "outputs": [],
   "source": [
    "d1 = '/Users/cgarciay/Desktop/Laval_Master_Computer/research/MIMIC//PROCEDURES_ICD.csv.gz'\n",
    "d2 = '/Users/cgarciay/Desktop/Laval_Master_Computer/research/ids_complete.csv'\n",
    "\n",
    "ids = pl.read_csv(d2)\n",
    "\n",
    "df_ = pl.read_csv(d1,infer_schema_length=0\n",
    "                      )\n",
    "df_filtered = df_.filter(pl.col('SUBJECT_ID').is_in( ids[\"0\"]))\n",
    "#df_filtered = df_filtered.with_columns(pl.col([\"HADM_ID\",\"SUBJECT_ID\"]).cast(pl.Utf8))\n"
   ]
  },
  {
   "attachments": {},
   "cell_type": "markdown",
   "id": "335f8bce",
   "metadata": {},
   "source": [
    "## Acotar df"
   ]
  },
  {
   "cell_type": "code",
   "execution_count": 4,
   "id": "66a6a5d8",
   "metadata": {},
   "outputs": [],
   "source": [
    "aux = df_filtered[[\n",
    " 'SUBJECT_ID',\n",
    " 'HADM_ID',\n",
    " \n",
    " 'ICD9_CODE']].to_pandas()"
   ]
  },
  {
   "cell_type": "code",
   "execution_count": 15,
   "id": "b5a92ac7",
   "metadata": {},
   "outputs": [
    {
     "data": {
      "text/plain": [
       "46520"
      ]
     },
     "execution_count": 15,
     "metadata": {},
     "output_type": "execute_result"
    }
   ],
   "source": [
    "#comprobacion\n",
    "aux2 = aux.groupby(['SUBJECT_ID','HADM_ID'])[\"ICD9_CODE\"].count().reset_index()\n",
    "aux2[aux2[\"ICD9_CODE\"].notnull()][\"SUBJECT_ID\"].nunique()\n",
    "ids[\"0\"].to_pandas().nunique()"
   ]
  },
  {
   "cell_type": "code",
   "execution_count": 17,
   "id": "6318f430",
   "metadata": {},
   "outputs": [
    {
     "data": {
      "text/plain": [
       "(240095, 3)"
      ]
     },
     "execution_count": 17,
     "metadata": {},
     "output_type": "execute_result"
    }
   ],
   "source": [
    "aux.shape"
   ]
  },
  {
   "cell_type": "code",
   "execution_count": 20,
   "id": "f8c620ba",
   "metadata": {},
   "outputs": [],
   "source": [
    "nuevo_df = aux.dropna()\n",
    "icd9codes = list(nuevo_df[\"ICD9_CODE\"])"
   ]
  },
  {
   "cell_type": "code",
   "execution_count": 19,
   "id": "c16a5df4",
   "metadata": {},
   "outputs": [
    {
     "data": {
      "text/plain": [
       "(240095, 3)"
      ]
     },
     "execution_count": 19,
     "metadata": {},
     "output_type": "execute_result"
    }
   ],
   "source": [
    "aux.shape"
   ]
  },
  {
   "attachments": {},
   "cell_type": "markdown",
   "id": "8ba1495f",
   "metadata": {},
   "source": [
    "# CLINICAL CLASSIFICATIONS SOFTWARE (CCS) FOR ICD-9-CM"
   ]
  },
  {
   "attachments": {},
   "cell_type": "markdown",
   "id": "e30cd187",
   "metadata": {},
   "source": [
    "**Authority**\n",
    "The Clinical Classifications Software (CCS) for ICD-9-CM was developed and is maintained by the Healthcare Cost and Utilization Project (HCUP), which is sponsored by the Agency for Healthcare Research and Quality (AHRQ).\n",
    "\n",
    "**Purpose**\n",
    "CCS is used to analyze costs, usage, and outcomes associated with patient diagnoses and procedures.\n",
    "\n",
    "**Description**\n",
    "CCS is composed of diagnoses and procedures categories, which are organized in two related classification systems. The single-level system consists of 285 mutually-exclusive diagnosis categories, 231 mutually-exclusive procedure categories, and no hierarchical structure. The multi-level system uses the single-level categories and International Classification of Diseases, 9th Revision, Clinical Modification (ICD-9-CM) codes in a hierarchical system consisting of four levels for diagnoses and three levels for procedures."
   ]
  },
  {
   "attachments": {},
   "cell_type": "markdown",
   "id": "a43cb587",
   "metadata": {},
   "source": [
    "Developed at the Agency for Healthcare Research and Quality (AHRQ), the Clinical Classifications Software (CCS) is a tool for clustering patient diagnoses and procedures into a manageable number of clinically meaningful categories. CCS offers researchers the ability to group conditions and procedures without having to sort through thousands of codes. This \"clinical grouper\" makes it easier to quickly understand patterns of diagnoses and procedures so that health plans, policy makers, and researchers can analyze costs, utilization, and outcomes associated with particular illnesses and procedures.\n",
    "\n",
    "C"
   ]
  },
  {
   "attachments": {},
   "cell_type": "markdown",
   "id": "fa758dc4",
   "metadata": {},
   "source": [
    "CCS categories can be employed in many types of projects analyzing data on diagnoses and procedures.  For example, they can be used to:  ♦ Identify cases for disease-specific or procedure-specific studies ♦ Gain a better understanding of an institution's or health plan's distribution of patients across disease or procedure groupings ♦ Provide statistical information on characteristics, such as charges and length of stay, about relatively specific conditions ♦ Cross-classify procedures by diagnoses to provide insight into the variety of procedures performed for particular diagnoses. "
   ]
  },
  {
   "attachments": {},
   "cell_type": "markdown",
   "id": "874f9b0e",
   "metadata": {},
   "source": [
    "https://hcup-us.ahrq.gov/toolssoftware/chronic/chronic.jsp#files"
   ]
  },
  {
   "cell_type": "code",
   "execution_count": 21,
   "id": "73ea4a88",
   "metadata": {},
   "outputs": [],
   "source": [
    "icd9codes = list(nuevo_df[\"ICD9_CODE\"])"
   ]
  },
  {
   "cell_type": "code",
   "execution_count": 22,
   "id": "a9f2f2b8",
   "metadata": {},
   "outputs": [],
   "source": [
    "from collections import Counter"
   ]
  },
  {
   "cell_type": "code",
   "execution_count": 23,
   "id": "6412cba2",
   "metadata": {},
   "outputs": [
    {
     "data": {
      "text/plain": [
       "Counter({str: 240095})"
      ]
     },
     "execution_count": 23,
     "metadata": {},
     "output_type": "execute_result"
    }
   ],
   "source": [
    "element_types = [type(item) for item in icd9codes]\n",
    "Counter(element_types)"
   ]
  },
  {
   "attachments": {},
   "cell_type": "markdown",
   "id": "a29f72a0",
   "metadata": {},
   "source": [
    "Diagnosis Codes The single-level diagnosis classification scheme aggregates illnesses and conditions into 285 mutually exclusive categories, most of which are clinically homogeneous.  Some heterogeneous categories were necessary; these combine several less common individual conditions within a body system. "
   ]
  },
  {
   "cell_type": "code",
   "execution_count": 24,
   "id": "11483172",
   "metadata": {},
   "outputs": [],
   "source": [
    "from icdmappings import Mapper\n",
    "#icd9codes = ['29410', '5362', 'NOT_A_CODE', '3669']\n",
    "mapper = Mapper()\n",
    "# icd9 to ccs\n",
    "#ICD9Chapters:\n"
   ]
  },
  {
   "cell_type": "code",
   "execution_count": 28,
   "id": "ec3929b6",
   "metadata": {},
   "outputs": [],
   "source": [
    "nuevo_df[\"CCS CODES\"]  =  mapper.map(icd9codes, mapper='icd9toccs')\n"
   ]
  },
  {
   "cell_type": "code",
   "execution_count": 33,
   "id": "11de8b12",
   "metadata": {},
   "outputs": [
    {
     "data": {
      "text/html": [
       "<div>\n",
       "<style scoped>\n",
       "    .dataframe tbody tr th:only-of-type {\n",
       "        vertical-align: middle;\n",
       "    }\n",
       "\n",
       "    .dataframe tbody tr th {\n",
       "        vertical-align: top;\n",
       "    }\n",
       "\n",
       "    .dataframe thead th {\n",
       "        text-align: right;\n",
       "    }\n",
       "</style>\n",
       "<table border=\"1\" class=\"dataframe\">\n",
       "  <thead>\n",
       "    <tr style=\"text-align: right;\">\n",
       "      <th></th>\n",
       "      <th>SUBJECT_ID</th>\n",
       "      <th>HADM_ID</th>\n",
       "      <th>ICD9_CODE</th>\n",
       "      <th>CCS CODES_</th>\n",
       "      <th>CCS CODES</th>\n",
       "    </tr>\n",
       "  </thead>\n",
       "  <tbody>\n",
       "    <tr>\n",
       "      <th>0</th>\n",
       "      <td>62641</td>\n",
       "      <td>154460</td>\n",
       "      <td>3404</td>\n",
       "      <td>None</td>\n",
       "      <td>None</td>\n",
       "    </tr>\n",
       "    <tr>\n",
       "      <th>1</th>\n",
       "      <td>2592</td>\n",
       "      <td>130856</td>\n",
       "      <td>9671</td>\n",
       "      <td>242</td>\n",
       "      <td>242</td>\n",
       "    </tr>\n",
       "    <tr>\n",
       "      <th>2</th>\n",
       "      <td>2592</td>\n",
       "      <td>130856</td>\n",
       "      <td>3893</td>\n",
       "      <td>None</td>\n",
       "      <td>None</td>\n",
       "    </tr>\n",
       "    <tr>\n",
       "      <th>3</th>\n",
       "      <td>55357</td>\n",
       "      <td>119355</td>\n",
       "      <td>9672</td>\n",
       "      <td>242</td>\n",
       "      <td>242</td>\n",
       "    </tr>\n",
       "    <tr>\n",
       "      <th>4</th>\n",
       "      <td>55357</td>\n",
       "      <td>119355</td>\n",
       "      <td>0331</td>\n",
       "      <td>3</td>\n",
       "      <td>3</td>\n",
       "    </tr>\n",
       "    <tr>\n",
       "      <th>...</th>\n",
       "      <td>...</td>\n",
       "      <td>...</td>\n",
       "      <td>...</td>\n",
       "      <td>...</td>\n",
       "      <td>...</td>\n",
       "    </tr>\n",
       "    <tr>\n",
       "      <th>240090</th>\n",
       "      <td>67415</td>\n",
       "      <td>150871</td>\n",
       "      <td>3736</td>\n",
       "      <td>90</td>\n",
       "      <td>90</td>\n",
       "    </tr>\n",
       "    <tr>\n",
       "      <th>240091</th>\n",
       "      <td>67415</td>\n",
       "      <td>150871</td>\n",
       "      <td>3893</td>\n",
       "      <td>None</td>\n",
       "      <td>None</td>\n",
       "    </tr>\n",
       "    <tr>\n",
       "      <th>240092</th>\n",
       "      <td>67415</td>\n",
       "      <td>150871</td>\n",
       "      <td>8872</td>\n",
       "      <td>236</td>\n",
       "      <td>236</td>\n",
       "    </tr>\n",
       "    <tr>\n",
       "      <th>240093</th>\n",
       "      <td>67415</td>\n",
       "      <td>150871</td>\n",
       "      <td>3893</td>\n",
       "      <td>None</td>\n",
       "      <td>None</td>\n",
       "    </tr>\n",
       "    <tr>\n",
       "      <th>240094</th>\n",
       "      <td>67415</td>\n",
       "      <td>150871</td>\n",
       "      <td>3722</td>\n",
       "      <td>None</td>\n",
       "      <td>None</td>\n",
       "    </tr>\n",
       "  </tbody>\n",
       "</table>\n",
       "<p>240095 rows × 5 columns</p>\n",
       "</div>"
      ],
      "text/plain": [
       "       SUBJECT_ID HADM_ID ICD9_CODE CCS CODES_ CCS CODES\n",
       "0           62641  154460      3404       None      None\n",
       "1            2592  130856      9671        242       242\n",
       "2            2592  130856      3893       None      None\n",
       "3           55357  119355      9672        242       242\n",
       "4           55357  119355      0331          3         3\n",
       "...           ...     ...       ...        ...       ...\n",
       "240090      67415  150871      3736         90        90\n",
       "240091      67415  150871      3893       None      None\n",
       "240092      67415  150871      8872        236       236\n",
       "240093      67415  150871      3893       None      None\n",
       "240094      67415  150871      3722       None      None\n",
       "\n",
       "[240095 rows x 5 columns]"
      ]
     },
     "execution_count": 33,
     "metadata": {},
     "output_type": "execute_result"
    }
   ],
   "source": [
    "nuevo_df"
   ]
  },
  {
   "cell_type": "code",
   "execution_count": 29,
   "id": "62e1e8d4",
   "metadata": {},
   "outputs": [
    {
     "data": {
      "text/plain": [
       "137614"
      ]
     },
     "execution_count": 29,
     "metadata": {},
     "output_type": "execute_result"
    }
   ],
   "source": [
    "nuevo_df[\"CCS CODES\"].isnull().sum()"
   ]
  },
  {
   "cell_type": "code",
   "execution_count": 31,
   "id": "4377ddb8",
   "metadata": {},
   "outputs": [
    {
     "data": {
      "text/plain": [
       "0.5731647889377122"
      ]
     },
     "execution_count": 31,
     "metadata": {},
     "output_type": "execute_result"
    }
   ],
   "source": [
    "137614/len(nuevo_df[\"CCS CODES\"])"
   ]
  },
  {
   "cell_type": "code",
   "execution_count": 43,
   "id": "5d9e0ff9",
   "metadata": {},
   "outputs": [
    {
     "data": {
      "text/plain": [
       "136"
      ]
     },
     "execution_count": 43,
     "metadata": {},
     "output_type": "execute_result"
    }
   ],
   "source": [
    "nuevo_df[\"CCS CODES\"].nunique()"
   ]
  },
  {
   "cell_type": "code",
   "execution_count": 50,
   "id": "72dce544",
   "metadata": {},
   "outputs": [],
   "source": [
    "\n"
   ]
  },
  {
   "cell_type": "code",
   "execution_count": 66,
   "id": "0c1dd3a7",
   "metadata": {},
   "outputs": [
    {
     "data": {
      "text/html": [
       "<div>\n",
       "<style scoped>\n",
       "    .dataframe tbody tr th:only-of-type {\n",
       "        vertical-align: middle;\n",
       "    }\n",
       "\n",
       "    .dataframe tbody tr th {\n",
       "        vertical-align: top;\n",
       "    }\n",
       "\n",
       "    .dataframe thead th {\n",
       "        text-align: right;\n",
       "    }\n",
       "</style>\n",
       "<table border=\"1\" class=\"dataframe\">\n",
       "  <thead>\n",
       "    <tr style=\"text-align: right;\">\n",
       "      <th></th>\n",
       "      <th>'ICD-9-CM CODE'</th>\n",
       "      <th>'CCS CATEGORY'</th>\n",
       "      <th>'CCS CATEGORY DESCRIPTION'</th>\n",
       "      <th>'ICD-9-CM CODE DESCRIPTION'</th>\n",
       "      <th>CCS CODES</th>\n",
       "    </tr>\n",
       "  </thead>\n",
       "  <tbody>\n",
       "    <tr>\n",
       "      <th>0</th>\n",
       "      <td>'     '</td>\n",
       "      <td>'0  '</td>\n",
       "      <td>'No PROC          '</td>\n",
       "      <td>INVALID CODES IN USER DATA</td>\n",
       "      <td>'0'</td>\n",
       "    </tr>\n",
       "    <tr>\n",
       "      <th>1</th>\n",
       "      <td>'0101 '</td>\n",
       "      <td>'1  '</td>\n",
       "      <td>'Inc/exc CNS      '</td>\n",
       "      <td>CISTERNAL PUNCTURE</td>\n",
       "      <td>'1'</td>\n",
       "    </tr>\n",
       "    <tr>\n",
       "      <th>2</th>\n",
       "      <td>'0109 '</td>\n",
       "      <td>'1  '</td>\n",
       "      <td>'Inc/exc CNS      '</td>\n",
       "      <td>CRANIAL PUNCTURE NEC</td>\n",
       "      <td>'1'</td>\n",
       "    </tr>\n",
       "    <tr>\n",
       "      <th>3</th>\n",
       "      <td>'0121 '</td>\n",
       "      <td>'1  '</td>\n",
       "      <td>'Inc/exc CNS      '</td>\n",
       "      <td>CRANIAL SINUS I &amp; D</td>\n",
       "      <td>'1'</td>\n",
       "    </tr>\n",
       "    <tr>\n",
       "      <th>4</th>\n",
       "      <td>'0122 '</td>\n",
       "      <td>'1  '</td>\n",
       "      <td>'Inc/exc CNS      '</td>\n",
       "      <td>REMOV INTRACRAN STIMULAT</td>\n",
       "      <td>'1'</td>\n",
       "    </tr>\n",
       "  </tbody>\n",
       "</table>\n",
       "</div>"
      ],
      "text/plain": [
       "  'ICD-9-CM CODE' 'CCS CATEGORY' 'CCS CATEGORY DESCRIPTION'  \\\n",
       "0         '     '          '0  '        'No PROC          '   \n",
       "1         '0101 '          '1  '        'Inc/exc CNS      '   \n",
       "2         '0109 '          '1  '        'Inc/exc CNS      '   \n",
       "3         '0121 '          '1  '        'Inc/exc CNS      '   \n",
       "4         '0122 '          '1  '        'Inc/exc CNS      '   \n",
       "\n",
       "  'ICD-9-CM CODE DESCRIPTION' CCS CODES  \n",
       "0  INVALID CODES IN USER DATA       '0'  \n",
       "1          CISTERNAL PUNCTURE       '1'  \n",
       "2        CRANIAL PUNCTURE NEC       '1'  \n",
       "3         CRANIAL SINUS I & D       '1'  \n",
       "4    REMOV INTRACRAN STIMULAT       '1'  "
      ]
     },
     "execution_count": 66,
     "metadata": {},
     "output_type": "execute_result"
    }
   ],
   "source": [
    "ccs = pd.read_csv(\"/Users/cgarciay/Desktop/Laval_Master_Computer/research/$prref 2015.csv\")\n",
    "ccs[\"CCS CODES\"] = ccs[\"'CCS CATEGORY'\"].replace(r'\\s+', '', regex=True)\n",
    "ccs.head()"
   ]
  },
  {
   "cell_type": "code",
   "execution_count": 69,
   "id": "751a5295",
   "metadata": {},
   "outputs": [],
   "source": [
    "ccs[\"ICD9_CODE\"]= ccs[\"'ICD-9-CM CODE'\"].str.replace(r'[^0-9]', '', regex=True)\n",
    "\n"
   ]
  },
  {
   "cell_type": "code",
   "execution_count": 70,
   "id": "6287f7bd",
   "metadata": {},
   "outputs": [],
   "source": [
    "\n",
    "resultado_inner_join = pd.merge(nuevo_df[[\"SUBJECT_ID\",\"HADM_ID\",\"ICD9_CODE\"]], ccs, on=\"ICD9_CODE\", how='inner')\n"
   ]
  },
  {
   "cell_type": "code",
   "execution_count": 71,
   "id": "e68e80ac",
   "metadata": {},
   "outputs": [],
   "source": [
    "nuevo_df = resultado_inner_join.copy()"
   ]
  },
  {
   "cell_type": "code",
   "execution_count": 73,
   "id": "213dbcbe",
   "metadata": {},
   "outputs": [
    {
     "data": {
      "text/html": [
       "<div>\n",
       "<style scoped>\n",
       "    .dataframe tbody tr th:only-of-type {\n",
       "        vertical-align: middle;\n",
       "    }\n",
       "\n",
       "    .dataframe tbody tr th {\n",
       "        vertical-align: top;\n",
       "    }\n",
       "\n",
       "    .dataframe thead th {\n",
       "        text-align: right;\n",
       "    }\n",
       "</style>\n",
       "<table border=\"1\" class=\"dataframe\">\n",
       "  <thead>\n",
       "    <tr style=\"text-align: right;\">\n",
       "      <th></th>\n",
       "      <th>SUBJECT_ID</th>\n",
       "      <th>HADM_ID</th>\n",
       "      <th>ICD9_CODE</th>\n",
       "      <th>'ICD-9-CM CODE'</th>\n",
       "      <th>'CCS CATEGORY'</th>\n",
       "      <th>'CCS CATEGORY DESCRIPTION'</th>\n",
       "      <th>'ICD-9-CM CODE DESCRIPTION'</th>\n",
       "      <th>CCS CODES</th>\n",
       "    </tr>\n",
       "  </thead>\n",
       "  <tbody>\n",
       "    <tr>\n",
       "      <th>0</th>\n",
       "      <td>62641</td>\n",
       "      <td>154460</td>\n",
       "      <td>3404</td>\n",
       "      <td>'3404 '</td>\n",
       "      <td>'39 '</td>\n",
       "      <td>'Thoracentesi     '</td>\n",
       "      <td>INSERT INTERCOSTAL CATH</td>\n",
       "      <td>'39'</td>\n",
       "    </tr>\n",
       "    <tr>\n",
       "      <th>1</th>\n",
       "      <td>11143</td>\n",
       "      <td>101985</td>\n",
       "      <td>3404</td>\n",
       "      <td>'3404 '</td>\n",
       "      <td>'39 '</td>\n",
       "      <td>'Thoracentesi     '</td>\n",
       "      <td>INSERT INTERCOSTAL CATH</td>\n",
       "      <td>'39'</td>\n",
       "    </tr>\n",
       "    <tr>\n",
       "      <th>2</th>\n",
       "      <td>9736</td>\n",
       "      <td>160259</td>\n",
       "      <td>3404</td>\n",
       "      <td>'3404 '</td>\n",
       "      <td>'39 '</td>\n",
       "      <td>'Thoracentesi     '</td>\n",
       "      <td>INSERT INTERCOSTAL CATH</td>\n",
       "      <td>'39'</td>\n",
       "    </tr>\n",
       "    <tr>\n",
       "      <th>3</th>\n",
       "      <td>7546</td>\n",
       "      <td>147476</td>\n",
       "      <td>3404</td>\n",
       "      <td>'3404 '</td>\n",
       "      <td>'39 '</td>\n",
       "      <td>'Thoracentesi     '</td>\n",
       "      <td>INSERT INTERCOSTAL CATH</td>\n",
       "      <td>'39'</td>\n",
       "    </tr>\n",
       "    <tr>\n",
       "      <th>4</th>\n",
       "      <td>65535</td>\n",
       "      <td>178280</td>\n",
       "      <td>3404</td>\n",
       "      <td>'3404 '</td>\n",
       "      <td>'39 '</td>\n",
       "      <td>'Thoracentesi     '</td>\n",
       "      <td>INSERT INTERCOSTAL CATH</td>\n",
       "      <td>'39'</td>\n",
       "    </tr>\n",
       "  </tbody>\n",
       "</table>\n",
       "</div>"
      ],
      "text/plain": [
       "  SUBJECT_ID HADM_ID ICD9_CODE 'ICD-9-CM CODE' 'CCS CATEGORY'  \\\n",
       "0      62641  154460      3404         '3404 '          '39 '   \n",
       "1      11143  101985      3404         '3404 '          '39 '   \n",
       "2       9736  160259      3404         '3404 '          '39 '   \n",
       "3       7546  147476      3404         '3404 '          '39 '   \n",
       "4      65535  178280      3404         '3404 '          '39 '   \n",
       "\n",
       "  'CCS CATEGORY DESCRIPTION' 'ICD-9-CM CODE DESCRIPTION' CCS CODES  \n",
       "0        'Thoracentesi     '     INSERT INTERCOSTAL CATH      '39'  \n",
       "1        'Thoracentesi     '     INSERT INTERCOSTAL CATH      '39'  \n",
       "2        'Thoracentesi     '     INSERT INTERCOSTAL CATH      '39'  \n",
       "3        'Thoracentesi     '     INSERT INTERCOSTAL CATH      '39'  \n",
       "4        'Thoracentesi     '     INSERT INTERCOSTAL CATH      '39'  "
      ]
     },
     "execution_count": 73,
     "metadata": {},
     "output_type": "execute_result"
    }
   ],
   "source": [
    "nuevo_df.head()"
   ]
  },
  {
   "cell_type": "code",
   "execution_count": 74,
   "id": "719a9a5b",
   "metadata": {},
   "outputs": [
    {
     "data": {
      "text/plain": [
       "(240095, 8)"
      ]
     },
     "execution_count": 74,
     "metadata": {},
     "output_type": "execute_result"
    }
   ],
   "source": [
    "nuevo_df.shape"
   ]
  },
  {
   "cell_type": "code",
   "execution_count": 75,
   "id": "3d64ae3b",
   "metadata": {},
   "outputs": [
    {
     "data": {
      "text/plain": [
       "(240095, 3)"
      ]
     },
     "execution_count": 75,
     "metadata": {},
     "output_type": "execute_result"
    }
   ],
   "source": [
    "aux.shape"
   ]
  },
  {
   "cell_type": "code",
   "execution_count": 407,
   "id": "1db2d30f",
   "metadata": {},
   "outputs": [],
   "source": [
    "#procedures\n",
    "#ccs = pd.read_csv(\"$prref 2015.csv\")\n",
    "\n",
    "#ccs[\"CCS CODES\"] = ccs[\"'CCS CATEGORY'\"].replace(r'\\s+', '', regex=True)\n"
   ]
  },
  {
   "cell_type": "code",
   "execution_count": 76,
   "id": "c3377ba6",
   "metadata": {},
   "outputs": [
    {
     "data": {
      "text/plain": [
       "221"
      ]
     },
     "execution_count": 76,
     "metadata": {},
     "output_type": "execute_result"
    }
   ],
   "source": [
    "nuevo_df[\"CCS CODES\"].nunique()"
   ]
  },
  {
   "cell_type": "code",
   "execution_count": 77,
   "id": "d142321a",
   "metadata": {},
   "outputs": [
    {
     "data": {
      "text/plain": [
       "0"
      ]
     },
     "execution_count": 77,
     "metadata": {},
     "output_type": "execute_result"
    }
   ],
   "source": [
    "nuevo_df[\"CCS CODES\"].isnull().sum()"
   ]
  },
  {
   "cell_type": "code",
   "execution_count": 78,
   "id": "4d85eb8c",
   "metadata": {},
   "outputs": [],
   "source": [
    "\n",
    "import plotly.express as px\n",
    "result = nuevo_df.groupby([ \"'CCS CATEGORY DESCRIPTION'\"]).size().reset_index(name='Count')\n",
    "result = result.sort_values(by =\"Count\", ascending=False )\n"
   ]
  },
  {
   "cell_type": "code",
   "execution_count": 79,
   "id": "d053c4d2",
   "metadata": {},
   "outputs": [
    {
     "data": {
      "text/html": [
       "<div>\n",
       "<style scoped>\n",
       "    .dataframe tbody tr th:only-of-type {\n",
       "        vertical-align: middle;\n",
       "    }\n",
       "\n",
       "    .dataframe tbody tr th {\n",
       "        vertical-align: top;\n",
       "    }\n",
       "\n",
       "    .dataframe thead th {\n",
       "        text-align: right;\n",
       "    }\n",
       "</style>\n",
       "<table border=\"1\" class=\"dataframe\">\n",
       "  <thead>\n",
       "    <tr style=\"text-align: right;\">\n",
       "      <th></th>\n",
       "      <th>'CCS CATEGORY DESCRIPTION'</th>\n",
       "      <th>Count</th>\n",
       "    </tr>\n",
       "  </thead>\n",
       "  <tbody>\n",
       "    <tr>\n",
       "      <th>105</th>\n",
       "      <td>'Mech ventil      '</td>\n",
       "      <td>28983</td>\n",
       "    </tr>\n",
       "    <tr>\n",
       "      <th>158</th>\n",
       "      <td>'Ot vasc cath     '</td>\n",
       "      <td>21548</td>\n",
       "    </tr>\n",
       "    <tr>\n",
       "      <th>26</th>\n",
       "      <td>'Cardiac cath     '</td>\n",
       "      <td>15804</td>\n",
       "    </tr>\n",
       "    <tr>\n",
       "      <th>63</th>\n",
       "      <td>'Ent nutritio     '</td>\n",
       "      <td>13544</td>\n",
       "    </tr>\n",
       "    <tr>\n",
       "      <th>13</th>\n",
       "      <td>'Blood transf     '</td>\n",
       "      <td>10827</td>\n",
       "    </tr>\n",
       "    <tr>\n",
       "      <th>...</th>\n",
       "      <td>...</td>\n",
       "      <td>...</td>\n",
       "    </tr>\n",
       "    <tr>\n",
       "      <th>78</th>\n",
       "      <td>'Glaucoma prs     '</td>\n",
       "      <td>2</td>\n",
       "    </tr>\n",
       "    <tr>\n",
       "      <th>52</th>\n",
       "      <td>'Dx procs ear     '</td>\n",
       "      <td>2</td>\n",
       "    </tr>\n",
       "    <tr>\n",
       "      <th>207</th>\n",
       "      <td>'Varic vein       '</td>\n",
       "      <td>1</td>\n",
       "    </tr>\n",
       "    <tr>\n",
       "      <th>90</th>\n",
       "      <td>'Inject esop      '</td>\n",
       "      <td>1</td>\n",
       "    </tr>\n",
       "    <tr>\n",
       "      <th>46</th>\n",
       "      <td>'Dx amnio         '</td>\n",
       "      <td>1</td>\n",
       "    </tr>\n",
       "  </tbody>\n",
       "</table>\n",
       "<p>222 rows × 2 columns</p>\n",
       "</div>"
      ],
      "text/plain": [
       "    'CCS CATEGORY DESCRIPTION'  Count\n",
       "105        'Mech ventil      '  28983\n",
       "158        'Ot vasc cath     '  21548\n",
       "26         'Cardiac cath     '  15804\n",
       "63         'Ent nutritio     '  13544\n",
       "13         'Blood transf     '  10827\n",
       "..                         ...    ...\n",
       "78         'Glaucoma prs     '      2\n",
       "52         'Dx procs ear     '      2\n",
       "207        'Varic vein       '      1\n",
       "90         'Inject esop      '      1\n",
       "46         'Dx amnio         '      1\n",
       "\n",
       "[222 rows x 2 columns]"
      ]
     },
     "execution_count": 79,
     "metadata": {},
     "output_type": "execute_result"
    }
   ],
   "source": [
    "result"
   ]
  },
  {
   "cell_type": "code",
   "execution_count": 80,
   "id": "81e32d9c",
   "metadata": {},
   "outputs": [
    {
     "data": {
      "application/vnd.plotly.v1+json": {
       "config": {
        "plotlyServerURL": "https://plot.ly"
       },
       "data": [
        {
         "alignmentgroup": "True",
         "hovertemplate": "'CCS CATEGORY DESCRIPTION'=%{x}<br>Count=%{y}<extra></extra>",
         "legendgroup": "",
         "marker": {
          "color": "#636efa",
          "pattern": {
           "shape": ""
          }
         },
         "name": "",
         "offsetgroup": "",
         "orientation": "v",
         "showlegend": false,
         "textposition": "auto",
         "type": "bar",
         "x": [
          "'Mech ventil      '",
          "'Ot vasc cath     '",
          "'Cardiac cath     '",
          "'Ent nutritio     '",
          "'Blood transf     '",
          "'CABG             '",
          "'Ot Rx procs      '",
          "'Ot vessels       '",
          "'Extrcor circ     '",
          "'Vaccinations     '",
          "'Bronchoscopy     '",
          "'n-OR CV prs      '",
          "'UGI endosc       '",
          "'Thoracentesi     '",
          "'Echocardiogr     '",
          "'Hemodialysis     '",
          "'Heart valve      '",
          "'Ot OR heart      '",
          "'PTCA             '",
          "'Spinal fus       '",
          "'Abd paracent     '",
          "'Dx spinaltap     '",
          "'nOR GI Rx pr     '",
          "'Circumcision     '",
          "'Pacemaker        '",
          "'OR GI Rx prs     '",
          "'Gastrostomy      '",
          "'Convert rhyt     '",
          "'Tracheostomy     '",
          "'Inc/exc CNS      '",
          "'Ot OR nerv       '",
          "'nOR UGI Rx       '",
          "'Ot arterio       '",
          "'Cereb arter      '",
          "'OR respirato     '",
          "'Rx prs musc      '",
          "'Colonoscopy      '",
          "'n-OR respira     '",
          "'OR LGI prcs      '",
          "'Swan-Ganz        '",
          "'Debrid wound     '",
          "'Vesl hed/nck     '",
          "'Colorec resc     '",
          "'Excis bone       '",
          "'Rx fx leg        '",
          "'Ileostomy        '",
          "'Oth diag procs   '",
          "'Ot Dx CV prs     '",
          "'Dx respirat      '",
          "'Aortogram        '"
         ],
         "xaxis": "x",
         "y": [
          28983,
          21548,
          15804,
          13544,
          10827,
          9280,
          8994,
          8434,
          7337,
          5923,
          5865,
          4972,
          3947,
          3933,
          3568,
          3254,
          3189,
          3108,
          2689,
          2230,
          2217,
          2205,
          2133,
          2123,
          2078,
          1981,
          1976,
          1941,
          1814,
          1784,
          1767,
          1698,
          1612,
          1579,
          1482,
          1359,
          1329,
          1264,
          1134,
          1088,
          1072,
          987,
          935,
          926,
          852,
          843,
          841,
          840,
          833,
          764
         ],
         "yaxis": "y"
        }
       ],
       "layout": {
        "barmode": "relative",
        "legend": {
         "tracegroupgap": 0
        },
        "template": {
         "data": {
          "bar": [
           {
            "error_x": {
             "color": "#2a3f5f"
            },
            "error_y": {
             "color": "#2a3f5f"
            },
            "marker": {
             "line": {
              "color": "#E5ECF6",
              "width": 0.5
             },
             "pattern": {
              "fillmode": "overlay",
              "size": 10,
              "solidity": 0.2
             }
            },
            "type": "bar"
           }
          ],
          "barpolar": [
           {
            "marker": {
             "line": {
              "color": "#E5ECF6",
              "width": 0.5
             },
             "pattern": {
              "fillmode": "overlay",
              "size": 10,
              "solidity": 0.2
             }
            },
            "type": "barpolar"
           }
          ],
          "carpet": [
           {
            "aaxis": {
             "endlinecolor": "#2a3f5f",
             "gridcolor": "white",
             "linecolor": "white",
             "minorgridcolor": "white",
             "startlinecolor": "#2a3f5f"
            },
            "baxis": {
             "endlinecolor": "#2a3f5f",
             "gridcolor": "white",
             "linecolor": "white",
             "minorgridcolor": "white",
             "startlinecolor": "#2a3f5f"
            },
            "type": "carpet"
           }
          ],
          "choropleth": [
           {
            "colorbar": {
             "outlinewidth": 0,
             "ticks": ""
            },
            "type": "choropleth"
           }
          ],
          "contour": [
           {
            "colorbar": {
             "outlinewidth": 0,
             "ticks": ""
            },
            "colorscale": [
             [
              0,
              "#0d0887"
             ],
             [
              0.1111111111111111,
              "#46039f"
             ],
             [
              0.2222222222222222,
              "#7201a8"
             ],
             [
              0.3333333333333333,
              "#9c179e"
             ],
             [
              0.4444444444444444,
              "#bd3786"
             ],
             [
              0.5555555555555556,
              "#d8576b"
             ],
             [
              0.6666666666666666,
              "#ed7953"
             ],
             [
              0.7777777777777778,
              "#fb9f3a"
             ],
             [
              0.8888888888888888,
              "#fdca26"
             ],
             [
              1,
              "#f0f921"
             ]
            ],
            "type": "contour"
           }
          ],
          "contourcarpet": [
           {
            "colorbar": {
             "outlinewidth": 0,
             "ticks": ""
            },
            "type": "contourcarpet"
           }
          ],
          "heatmap": [
           {
            "colorbar": {
             "outlinewidth": 0,
             "ticks": ""
            },
            "colorscale": [
             [
              0,
              "#0d0887"
             ],
             [
              0.1111111111111111,
              "#46039f"
             ],
             [
              0.2222222222222222,
              "#7201a8"
             ],
             [
              0.3333333333333333,
              "#9c179e"
             ],
             [
              0.4444444444444444,
              "#bd3786"
             ],
             [
              0.5555555555555556,
              "#d8576b"
             ],
             [
              0.6666666666666666,
              "#ed7953"
             ],
             [
              0.7777777777777778,
              "#fb9f3a"
             ],
             [
              0.8888888888888888,
              "#fdca26"
             ],
             [
              1,
              "#f0f921"
             ]
            ],
            "type": "heatmap"
           }
          ],
          "heatmapgl": [
           {
            "colorbar": {
             "outlinewidth": 0,
             "ticks": ""
            },
            "colorscale": [
             [
              0,
              "#0d0887"
             ],
             [
              0.1111111111111111,
              "#46039f"
             ],
             [
              0.2222222222222222,
              "#7201a8"
             ],
             [
              0.3333333333333333,
              "#9c179e"
             ],
             [
              0.4444444444444444,
              "#bd3786"
             ],
             [
              0.5555555555555556,
              "#d8576b"
             ],
             [
              0.6666666666666666,
              "#ed7953"
             ],
             [
              0.7777777777777778,
              "#fb9f3a"
             ],
             [
              0.8888888888888888,
              "#fdca26"
             ],
             [
              1,
              "#f0f921"
             ]
            ],
            "type": "heatmapgl"
           }
          ],
          "histogram": [
           {
            "marker": {
             "pattern": {
              "fillmode": "overlay",
              "size": 10,
              "solidity": 0.2
             }
            },
            "type": "histogram"
           }
          ],
          "histogram2d": [
           {
            "colorbar": {
             "outlinewidth": 0,
             "ticks": ""
            },
            "colorscale": [
             [
              0,
              "#0d0887"
             ],
             [
              0.1111111111111111,
              "#46039f"
             ],
             [
              0.2222222222222222,
              "#7201a8"
             ],
             [
              0.3333333333333333,
              "#9c179e"
             ],
             [
              0.4444444444444444,
              "#bd3786"
             ],
             [
              0.5555555555555556,
              "#d8576b"
             ],
             [
              0.6666666666666666,
              "#ed7953"
             ],
             [
              0.7777777777777778,
              "#fb9f3a"
             ],
             [
              0.8888888888888888,
              "#fdca26"
             ],
             [
              1,
              "#f0f921"
             ]
            ],
            "type": "histogram2d"
           }
          ],
          "histogram2dcontour": [
           {
            "colorbar": {
             "outlinewidth": 0,
             "ticks": ""
            },
            "colorscale": [
             [
              0,
              "#0d0887"
             ],
             [
              0.1111111111111111,
              "#46039f"
             ],
             [
              0.2222222222222222,
              "#7201a8"
             ],
             [
              0.3333333333333333,
              "#9c179e"
             ],
             [
              0.4444444444444444,
              "#bd3786"
             ],
             [
              0.5555555555555556,
              "#d8576b"
             ],
             [
              0.6666666666666666,
              "#ed7953"
             ],
             [
              0.7777777777777778,
              "#fb9f3a"
             ],
             [
              0.8888888888888888,
              "#fdca26"
             ],
             [
              1,
              "#f0f921"
             ]
            ],
            "type": "histogram2dcontour"
           }
          ],
          "mesh3d": [
           {
            "colorbar": {
             "outlinewidth": 0,
             "ticks": ""
            },
            "type": "mesh3d"
           }
          ],
          "parcoords": [
           {
            "line": {
             "colorbar": {
              "outlinewidth": 0,
              "ticks": ""
             }
            },
            "type": "parcoords"
           }
          ],
          "pie": [
           {
            "automargin": true,
            "type": "pie"
           }
          ],
          "scatter": [
           {
            "marker": {
             "colorbar": {
              "outlinewidth": 0,
              "ticks": ""
             }
            },
            "type": "scatter"
           }
          ],
          "scatter3d": [
           {
            "line": {
             "colorbar": {
              "outlinewidth": 0,
              "ticks": ""
             }
            },
            "marker": {
             "colorbar": {
              "outlinewidth": 0,
              "ticks": ""
             }
            },
            "type": "scatter3d"
           }
          ],
          "scattercarpet": [
           {
            "marker": {
             "colorbar": {
              "outlinewidth": 0,
              "ticks": ""
             }
            },
            "type": "scattercarpet"
           }
          ],
          "scattergeo": [
           {
            "marker": {
             "colorbar": {
              "outlinewidth": 0,
              "ticks": ""
             }
            },
            "type": "scattergeo"
           }
          ],
          "scattergl": [
           {
            "marker": {
             "colorbar": {
              "outlinewidth": 0,
              "ticks": ""
             }
            },
            "type": "scattergl"
           }
          ],
          "scattermapbox": [
           {
            "marker": {
             "colorbar": {
              "outlinewidth": 0,
              "ticks": ""
             }
            },
            "type": "scattermapbox"
           }
          ],
          "scatterpolar": [
           {
            "marker": {
             "colorbar": {
              "outlinewidth": 0,
              "ticks": ""
             }
            },
            "type": "scatterpolar"
           }
          ],
          "scatterpolargl": [
           {
            "marker": {
             "colorbar": {
              "outlinewidth": 0,
              "ticks": ""
             }
            },
            "type": "scatterpolargl"
           }
          ],
          "scatterternary": [
           {
            "marker": {
             "colorbar": {
              "outlinewidth": 0,
              "ticks": ""
             }
            },
            "type": "scatterternary"
           }
          ],
          "surface": [
           {
            "colorbar": {
             "outlinewidth": 0,
             "ticks": ""
            },
            "colorscale": [
             [
              0,
              "#0d0887"
             ],
             [
              0.1111111111111111,
              "#46039f"
             ],
             [
              0.2222222222222222,
              "#7201a8"
             ],
             [
              0.3333333333333333,
              "#9c179e"
             ],
             [
              0.4444444444444444,
              "#bd3786"
             ],
             [
              0.5555555555555556,
              "#d8576b"
             ],
             [
              0.6666666666666666,
              "#ed7953"
             ],
             [
              0.7777777777777778,
              "#fb9f3a"
             ],
             [
              0.8888888888888888,
              "#fdca26"
             ],
             [
              1,
              "#f0f921"
             ]
            ],
            "type": "surface"
           }
          ],
          "table": [
           {
            "cells": {
             "fill": {
              "color": "#EBF0F8"
             },
             "line": {
              "color": "white"
             }
            },
            "header": {
             "fill": {
              "color": "#C8D4E3"
             },
             "line": {
              "color": "white"
             }
            },
            "type": "table"
           }
          ]
         },
         "layout": {
          "annotationdefaults": {
           "arrowcolor": "#2a3f5f",
           "arrowhead": 0,
           "arrowwidth": 1
          },
          "autotypenumbers": "strict",
          "coloraxis": {
           "colorbar": {
            "outlinewidth": 0,
            "ticks": ""
           }
          },
          "colorscale": {
           "diverging": [
            [
             0,
             "#8e0152"
            ],
            [
             0.1,
             "#c51b7d"
            ],
            [
             0.2,
             "#de77ae"
            ],
            [
             0.3,
             "#f1b6da"
            ],
            [
             0.4,
             "#fde0ef"
            ],
            [
             0.5,
             "#f7f7f7"
            ],
            [
             0.6,
             "#e6f5d0"
            ],
            [
             0.7,
             "#b8e186"
            ],
            [
             0.8,
             "#7fbc41"
            ],
            [
             0.9,
             "#4d9221"
            ],
            [
             1,
             "#276419"
            ]
           ],
           "sequential": [
            [
             0,
             "#0d0887"
            ],
            [
             0.1111111111111111,
             "#46039f"
            ],
            [
             0.2222222222222222,
             "#7201a8"
            ],
            [
             0.3333333333333333,
             "#9c179e"
            ],
            [
             0.4444444444444444,
             "#bd3786"
            ],
            [
             0.5555555555555556,
             "#d8576b"
            ],
            [
             0.6666666666666666,
             "#ed7953"
            ],
            [
             0.7777777777777778,
             "#fb9f3a"
            ],
            [
             0.8888888888888888,
             "#fdca26"
            ],
            [
             1,
             "#f0f921"
            ]
           ],
           "sequentialminus": [
            [
             0,
             "#0d0887"
            ],
            [
             0.1111111111111111,
             "#46039f"
            ],
            [
             0.2222222222222222,
             "#7201a8"
            ],
            [
             0.3333333333333333,
             "#9c179e"
            ],
            [
             0.4444444444444444,
             "#bd3786"
            ],
            [
             0.5555555555555556,
             "#d8576b"
            ],
            [
             0.6666666666666666,
             "#ed7953"
            ],
            [
             0.7777777777777778,
             "#fb9f3a"
            ],
            [
             0.8888888888888888,
             "#fdca26"
            ],
            [
             1,
             "#f0f921"
            ]
           ]
          },
          "colorway": [
           "#636efa",
           "#EF553B",
           "#00cc96",
           "#ab63fa",
           "#FFA15A",
           "#19d3f3",
           "#FF6692",
           "#B6E880",
           "#FF97FF",
           "#FECB52"
          ],
          "font": {
           "color": "#2a3f5f"
          },
          "geo": {
           "bgcolor": "white",
           "lakecolor": "white",
           "landcolor": "#E5ECF6",
           "showlakes": true,
           "showland": true,
           "subunitcolor": "white"
          },
          "hoverlabel": {
           "align": "left"
          },
          "hovermode": "closest",
          "mapbox": {
           "style": "light"
          },
          "paper_bgcolor": "white",
          "plot_bgcolor": "#E5ECF6",
          "polar": {
           "angularaxis": {
            "gridcolor": "white",
            "linecolor": "white",
            "ticks": ""
           },
           "bgcolor": "#E5ECF6",
           "radialaxis": {
            "gridcolor": "white",
            "linecolor": "white",
            "ticks": ""
           }
          },
          "scene": {
           "xaxis": {
            "backgroundcolor": "#E5ECF6",
            "gridcolor": "white",
            "gridwidth": 2,
            "linecolor": "white",
            "showbackground": true,
            "ticks": "",
            "zerolinecolor": "white"
           },
           "yaxis": {
            "backgroundcolor": "#E5ECF6",
            "gridcolor": "white",
            "gridwidth": 2,
            "linecolor": "white",
            "showbackground": true,
            "ticks": "",
            "zerolinecolor": "white"
           },
           "zaxis": {
            "backgroundcolor": "#E5ECF6",
            "gridcolor": "white",
            "gridwidth": 2,
            "linecolor": "white",
            "showbackground": true,
            "ticks": "",
            "zerolinecolor": "white"
           }
          },
          "shapedefaults": {
           "line": {
            "color": "#2a3f5f"
           }
          },
          "ternary": {
           "aaxis": {
            "gridcolor": "white",
            "linecolor": "white",
            "ticks": ""
           },
           "baxis": {
            "gridcolor": "white",
            "linecolor": "white",
            "ticks": ""
           },
           "bgcolor": "#E5ECF6",
           "caxis": {
            "gridcolor": "white",
            "linecolor": "white",
            "ticks": ""
           }
          },
          "title": {
           "x": 0.05
          },
          "xaxis": {
           "automargin": true,
           "gridcolor": "white",
           "linecolor": "white",
           "ticks": "",
           "title": {
            "standoff": 15
           },
           "zerolinecolor": "white",
           "zerolinewidth": 2
          },
          "yaxis": {
           "automargin": true,
           "gridcolor": "white",
           "linecolor": "white",
           "ticks": "",
           "title": {
            "standoff": 15
           },
           "zerolinecolor": "white",
           "zerolinewidth": 2
          }
         }
        },
        "title": {
         "text": "CCS Proc"
        },
        "xaxis": {
         "anchor": "y",
         "domain": [
          0,
          1
         ],
         "title": {
          "text": "'CCS CATEGORY DESCRIPTION'"
         }
        },
        "yaxis": {
         "anchor": "x",
         "domain": [
          0,
          1
         ],
         "title": {
          "text": "Count"
         }
        }
       }
      }
     },
     "metadata": {},
     "output_type": "display_data"
    }
   ],
   "source": [
    "\n",
    "fig = px.bar(result[:50], x=\"'CCS CATEGORY DESCRIPTION'\", y=\"Count\", title='CCS Proc')\n",
    "\n",
    "# Mostrar el gráfico\n",
    "fig.show()"
   ]
  },
  {
   "attachments": {},
   "cell_type": "markdown",
   "id": "c0df5b1e",
   "metadata": {},
   "source": [
    "# LEVEL 3 MAPPER"
   ]
  },
  {
   "cell_type": "code",
   "execution_count": 81,
   "id": "c06316ad",
   "metadata": {},
   "outputs": [],
   "source": [
    "from icdmappings import Mapper\n",
    "#icd9codes = ['29410', '5362', 'NOT_A_CODE', '3669']\n",
    "mapper = Mapper()\n",
    "# icd9 to ccs\n",
    "#ICD9Chapters:\n"
   ]
  },
  {
   "cell_type": "code",
   "execution_count": 82,
   "id": "c8544ec9",
   "metadata": {},
   "outputs": [],
   "source": [
    "nuevo_df[\"LEVE3 CODES\"]  =  mapper.map(icd9codes, mapper='icd9tolevel3')\n"
   ]
  },
  {
   "cell_type": "code",
   "execution_count": 83,
   "id": "50d9dda6",
   "metadata": {},
   "outputs": [
    {
     "data": {
      "text/plain": [
       "668"
      ]
     },
     "execution_count": 83,
     "metadata": {},
     "output_type": "execute_result"
    }
   ],
   "source": [
    "nuevo_df[\"LEVE3 CODES\"].nunique()"
   ]
  },
  {
   "cell_type": "code",
   "execution_count": 84,
   "id": "e6063574",
   "metadata": {},
   "outputs": [
    {
     "data": {
      "text/plain": [
       "0"
      ]
     },
     "execution_count": 84,
     "metadata": {},
     "output_type": "execute_result"
    }
   ],
   "source": [
    "nuevo_df[\"LEVE3 CODES\"].isnull().sum()"
   ]
  },
  {
   "cell_type": "code",
   "execution_count": 85,
   "id": "843a4f06",
   "metadata": {},
   "outputs": [
    {
     "data": {
      "text/plain": [
       "0         340\n",
       "1         967\n",
       "2         389\n",
       "3         967\n",
       "4         033\n",
       "         ... \n",
       "240090    373\n",
       "240091    389\n",
       "240092    887\n",
       "240093    389\n",
       "240094    372\n",
       "Name: LEVE3 CODES, Length: 240095, dtype: object"
      ]
     },
     "execution_count": 85,
     "metadata": {},
     "output_type": "execute_result"
    }
   ],
   "source": [
    "nuevo_df[\"LEVE3 CODES\"]"
   ]
  },
  {
   "attachments": {},
   "cell_type": "markdown",
   "id": "26904349",
   "metadata": {},
   "source": [
    "### 3 digits category, each category graph the distribution of the code to have a granular division, (unique codes of subject_id)"
   ]
  },
  {
   "attachments": {},
   "cell_type": "markdown",
   "id": "697c8b8b",
   "metadata": {},
   "source": [
    "Enfermedades mas frecuentes"
   ]
  },
  {
   "attachments": {},
   "cell_type": "markdown",
   "id": "a48973ce",
   "metadata": {},
   "source": [
    "### Merge con los nombres de diagnosis"
   ]
  },
  {
   "cell_type": "code",
   "execution_count": 86,
   "id": "d8232381",
   "metadata": {},
   "outputs": [],
   "source": [
    "dict_ = pl.read_csv(\"/Users/cgarciay/Desktop/Laval_Master_Computer/research/MIMIC//D_ICD_PROCEDURES.csv.gz\" ,infer_schema_length=0)\n",
    "#'dataset/DIAGNOSES_ICD.csv.gz'"
   ]
  },
  {
   "cell_type": "code",
   "execution_count": 87,
   "id": "ddefbfb4",
   "metadata": {},
   "outputs": [],
   "source": [
    "dict_ = dict_.to_pandas()"
   ]
  },
  {
   "cell_type": "code",
   "execution_count": 88,
   "id": "691b408a",
   "metadata": {},
   "outputs": [
    {
     "name": "stdout",
     "output_type": "stream",
     "text": [
      "<class 'pandas.core.frame.DataFrame'>\n",
      "RangeIndex: 3882 entries, 0 to 3881\n",
      "Data columns (total 4 columns):\n",
      " #   Column       Non-Null Count  Dtype \n",
      "---  ------       --------------  ----- \n",
      " 0   ROW_ID       3882 non-null   object\n",
      " 1   ICD9_CODE    3882 non-null   object\n",
      " 2   SHORT_TITLE  3882 non-null   object\n",
      " 3   LONG_TITLE   3882 non-null   object\n",
      "dtypes: object(4)\n",
      "memory usage: 121.4+ KB\n"
     ]
    }
   ],
   "source": [
    "dict_.info()"
   ]
  },
  {
   "cell_type": "code",
   "execution_count": 89,
   "id": "4741015f",
   "metadata": {},
   "outputs": [
    {
     "name": "stdout",
     "output_type": "stream",
     "text": [
      "<class 'pandas.core.frame.DataFrame'>\n",
      "Int64Index: 240095 entries, 0 to 240094\n",
      "Data columns (total 9 columns):\n",
      " #   Column                       Non-Null Count   Dtype \n",
      "---  ------                       --------------   ----- \n",
      " 0   SUBJECT_ID                   240095 non-null  object\n",
      " 1   HADM_ID                      240095 non-null  object\n",
      " 2   ICD9_CODE                    240095 non-null  object\n",
      " 3   'ICD-9-CM CODE'              240095 non-null  object\n",
      " 4   'CCS CATEGORY'               240095 non-null  object\n",
      " 5   'CCS CATEGORY DESCRIPTION'   240095 non-null  object\n",
      " 6   'ICD-9-CM CODE DESCRIPTION'  240095 non-null  object\n",
      " 7   CCS CODES                    240095 non-null  object\n",
      " 8   LEVE3 CODES                  240095 non-null  object\n",
      "dtypes: object(9)\n",
      "memory usage: 18.3+ MB\n"
     ]
    }
   ],
   "source": [
    "nuevo_df.info()"
   ]
  },
  {
   "cell_type": "code",
   "execution_count": 90,
   "id": "79e7ae66",
   "metadata": {},
   "outputs": [],
   "source": [
    "nom_df=nuevo_df.merge(dict_, on='ICD9_CODE', how=\"left\")"
   ]
  },
  {
   "cell_type": "code",
   "execution_count": 91,
   "id": "5357dba0",
   "metadata": {},
   "outputs": [
    {
     "name": "stdout",
     "output_type": "stream",
     "text": [
      "<class 'pandas.core.frame.DataFrame'>\n",
      "Int64Index: 240095 entries, 0 to 240094\n",
      "Data columns (total 12 columns):\n",
      " #   Column                       Non-Null Count   Dtype \n",
      "---  ------                       --------------   ----- \n",
      " 0   SUBJECT_ID                   240095 non-null  object\n",
      " 1   HADM_ID                      240095 non-null  object\n",
      " 2   ICD9_CODE                    240095 non-null  object\n",
      " 3   'ICD-9-CM CODE'              240095 non-null  object\n",
      " 4   'CCS CATEGORY'               240095 non-null  object\n",
      " 5   'CCS CATEGORY DESCRIPTION'   240095 non-null  object\n",
      " 6   'ICD-9-CM CODE DESCRIPTION'  240095 non-null  object\n",
      " 7   CCS CODES                    240095 non-null  object\n",
      " 8   LEVE3 CODES                  240095 non-null  object\n",
      " 9   ROW_ID                       237948 non-null  object\n",
      " 10  SHORT_TITLE                  237948 non-null  object\n",
      " 11  LONG_TITLE                   237948 non-null  object\n",
      "dtypes: object(12)\n",
      "memory usage: 23.8+ MB\n"
     ]
    }
   ],
   "source": [
    "nom_df.info()"
   ]
  },
  {
   "cell_type": "code",
   "execution_count": 139,
   "id": "362b3391",
   "metadata": {},
   "outputs": [
    {
     "data": {
      "text/plain": [
       "1511"
      ]
     },
     "execution_count": 139,
     "metadata": {},
     "output_type": "execute_result"
    }
   ],
   "source": [
    "nom_df.SHORT_TITLE.nunique()"
   ]
  },
  {
   "cell_type": "code",
   "execution_count": 92,
   "id": "960ed0f0",
   "metadata": {},
   "outputs": [
    {
     "data": {
      "application/vnd.plotly.v1+json": {
       "config": {
        "plotlyServerURL": "https://plot.ly"
       },
       "data": [
        {
         "alignmentgroup": "True",
         "hovertemplate": "SHORT_TITLE=%{x}<br>Count=%{y}<extra></extra>",
         "legendgroup": "",
         "marker": {
          "color": "#636efa",
          "pattern": {
           "shape": ""
          }
         },
         "name": "",
         "offsetgroup": "",
         "orientation": "v",
         "showlegend": false,
         "textposition": "auto",
         "type": "bar",
         "x": [
          "Venous cath NEC",
          "Insert endotracheal tube",
          "Entral infus nutrit sub",
          "Cont inv mec ven <96 hrs",
          "Packed cell transfusion",
          "Extracorporeal circulat",
          "Cont inv mec ven 96+ hrs",
          "Vaccination NEC",
          "Coronar arteriogr-2 cath",
          "Arterial catheterization",
          "1 int mam-cor art bypass",
          "Parent infus nutrit sub",
          "Dx ultrasound-heart",
          "Left heart cardiac cath",
          "Closed bronchial biopsy",
          "Hemodialysis",
          "Sm bowel endoscopy NEC",
          "Non-invasive mech vent",
          "Rt/left heart card cath",
          "Other phototherapy",
          "Percu abdominal drainage",
          "Spinal tap",
          "Circumcision",
          "Lt heart angiocardiogram",
          "Serum transfusion NEC",
          "Aortocor bypas-2 cor art",
          "Thoracentesis",
          "Ven cath renal dialysis",
          "Temporary tracheostomy",
          "Inj/inf platelet inhibit"
         ],
         "xaxis": "x",
         "y": [
          14731,
          10333,
          9300,
          9100,
          7244,
          6838,
          6048,
          5842,
          5337,
          4737,
          4401,
          4244,
          3548,
          3311,
          3269,
          3254,
          2919,
          2727,
          2711,
          2402,
          2217,
          2205,
          2123,
          2113,
          2028,
          1903,
          1834,
          1825,
          1776,
          1740
         ],
         "yaxis": "y"
        }
       ],
       "layout": {
        "barmode": "relative",
        "legend": {
         "tracegroupgap": 0
        },
        "template": {
         "data": {
          "bar": [
           {
            "error_x": {
             "color": "#2a3f5f"
            },
            "error_y": {
             "color": "#2a3f5f"
            },
            "marker": {
             "line": {
              "color": "#E5ECF6",
              "width": 0.5
             },
             "pattern": {
              "fillmode": "overlay",
              "size": 10,
              "solidity": 0.2
             }
            },
            "type": "bar"
           }
          ],
          "barpolar": [
           {
            "marker": {
             "line": {
              "color": "#E5ECF6",
              "width": 0.5
             },
             "pattern": {
              "fillmode": "overlay",
              "size": 10,
              "solidity": 0.2
             }
            },
            "type": "barpolar"
           }
          ],
          "carpet": [
           {
            "aaxis": {
             "endlinecolor": "#2a3f5f",
             "gridcolor": "white",
             "linecolor": "white",
             "minorgridcolor": "white",
             "startlinecolor": "#2a3f5f"
            },
            "baxis": {
             "endlinecolor": "#2a3f5f",
             "gridcolor": "white",
             "linecolor": "white",
             "minorgridcolor": "white",
             "startlinecolor": "#2a3f5f"
            },
            "type": "carpet"
           }
          ],
          "choropleth": [
           {
            "colorbar": {
             "outlinewidth": 0,
             "ticks": ""
            },
            "type": "choropleth"
           }
          ],
          "contour": [
           {
            "colorbar": {
             "outlinewidth": 0,
             "ticks": ""
            },
            "colorscale": [
             [
              0,
              "#0d0887"
             ],
             [
              0.1111111111111111,
              "#46039f"
             ],
             [
              0.2222222222222222,
              "#7201a8"
             ],
             [
              0.3333333333333333,
              "#9c179e"
             ],
             [
              0.4444444444444444,
              "#bd3786"
             ],
             [
              0.5555555555555556,
              "#d8576b"
             ],
             [
              0.6666666666666666,
              "#ed7953"
             ],
             [
              0.7777777777777778,
              "#fb9f3a"
             ],
             [
              0.8888888888888888,
              "#fdca26"
             ],
             [
              1,
              "#f0f921"
             ]
            ],
            "type": "contour"
           }
          ],
          "contourcarpet": [
           {
            "colorbar": {
             "outlinewidth": 0,
             "ticks": ""
            },
            "type": "contourcarpet"
           }
          ],
          "heatmap": [
           {
            "colorbar": {
             "outlinewidth": 0,
             "ticks": ""
            },
            "colorscale": [
             [
              0,
              "#0d0887"
             ],
             [
              0.1111111111111111,
              "#46039f"
             ],
             [
              0.2222222222222222,
              "#7201a8"
             ],
             [
              0.3333333333333333,
              "#9c179e"
             ],
             [
              0.4444444444444444,
              "#bd3786"
             ],
             [
              0.5555555555555556,
              "#d8576b"
             ],
             [
              0.6666666666666666,
              "#ed7953"
             ],
             [
              0.7777777777777778,
              "#fb9f3a"
             ],
             [
              0.8888888888888888,
              "#fdca26"
             ],
             [
              1,
              "#f0f921"
             ]
            ],
            "type": "heatmap"
           }
          ],
          "heatmapgl": [
           {
            "colorbar": {
             "outlinewidth": 0,
             "ticks": ""
            },
            "colorscale": [
             [
              0,
              "#0d0887"
             ],
             [
              0.1111111111111111,
              "#46039f"
             ],
             [
              0.2222222222222222,
              "#7201a8"
             ],
             [
              0.3333333333333333,
              "#9c179e"
             ],
             [
              0.4444444444444444,
              "#bd3786"
             ],
             [
              0.5555555555555556,
              "#d8576b"
             ],
             [
              0.6666666666666666,
              "#ed7953"
             ],
             [
              0.7777777777777778,
              "#fb9f3a"
             ],
             [
              0.8888888888888888,
              "#fdca26"
             ],
             [
              1,
              "#f0f921"
             ]
            ],
            "type": "heatmapgl"
           }
          ],
          "histogram": [
           {
            "marker": {
             "pattern": {
              "fillmode": "overlay",
              "size": 10,
              "solidity": 0.2
             }
            },
            "type": "histogram"
           }
          ],
          "histogram2d": [
           {
            "colorbar": {
             "outlinewidth": 0,
             "ticks": ""
            },
            "colorscale": [
             [
              0,
              "#0d0887"
             ],
             [
              0.1111111111111111,
              "#46039f"
             ],
             [
              0.2222222222222222,
              "#7201a8"
             ],
             [
              0.3333333333333333,
              "#9c179e"
             ],
             [
              0.4444444444444444,
              "#bd3786"
             ],
             [
              0.5555555555555556,
              "#d8576b"
             ],
             [
              0.6666666666666666,
              "#ed7953"
             ],
             [
              0.7777777777777778,
              "#fb9f3a"
             ],
             [
              0.8888888888888888,
              "#fdca26"
             ],
             [
              1,
              "#f0f921"
             ]
            ],
            "type": "histogram2d"
           }
          ],
          "histogram2dcontour": [
           {
            "colorbar": {
             "outlinewidth": 0,
             "ticks": ""
            },
            "colorscale": [
             [
              0,
              "#0d0887"
             ],
             [
              0.1111111111111111,
              "#46039f"
             ],
             [
              0.2222222222222222,
              "#7201a8"
             ],
             [
              0.3333333333333333,
              "#9c179e"
             ],
             [
              0.4444444444444444,
              "#bd3786"
             ],
             [
              0.5555555555555556,
              "#d8576b"
             ],
             [
              0.6666666666666666,
              "#ed7953"
             ],
             [
              0.7777777777777778,
              "#fb9f3a"
             ],
             [
              0.8888888888888888,
              "#fdca26"
             ],
             [
              1,
              "#f0f921"
             ]
            ],
            "type": "histogram2dcontour"
           }
          ],
          "mesh3d": [
           {
            "colorbar": {
             "outlinewidth": 0,
             "ticks": ""
            },
            "type": "mesh3d"
           }
          ],
          "parcoords": [
           {
            "line": {
             "colorbar": {
              "outlinewidth": 0,
              "ticks": ""
             }
            },
            "type": "parcoords"
           }
          ],
          "pie": [
           {
            "automargin": true,
            "type": "pie"
           }
          ],
          "scatter": [
           {
            "marker": {
             "colorbar": {
              "outlinewidth": 0,
              "ticks": ""
             }
            },
            "type": "scatter"
           }
          ],
          "scatter3d": [
           {
            "line": {
             "colorbar": {
              "outlinewidth": 0,
              "ticks": ""
             }
            },
            "marker": {
             "colorbar": {
              "outlinewidth": 0,
              "ticks": ""
             }
            },
            "type": "scatter3d"
           }
          ],
          "scattercarpet": [
           {
            "marker": {
             "colorbar": {
              "outlinewidth": 0,
              "ticks": ""
             }
            },
            "type": "scattercarpet"
           }
          ],
          "scattergeo": [
           {
            "marker": {
             "colorbar": {
              "outlinewidth": 0,
              "ticks": ""
             }
            },
            "type": "scattergeo"
           }
          ],
          "scattergl": [
           {
            "marker": {
             "colorbar": {
              "outlinewidth": 0,
              "ticks": ""
             }
            },
            "type": "scattergl"
           }
          ],
          "scattermapbox": [
           {
            "marker": {
             "colorbar": {
              "outlinewidth": 0,
              "ticks": ""
             }
            },
            "type": "scattermapbox"
           }
          ],
          "scatterpolar": [
           {
            "marker": {
             "colorbar": {
              "outlinewidth": 0,
              "ticks": ""
             }
            },
            "type": "scatterpolar"
           }
          ],
          "scatterpolargl": [
           {
            "marker": {
             "colorbar": {
              "outlinewidth": 0,
              "ticks": ""
             }
            },
            "type": "scatterpolargl"
           }
          ],
          "scatterternary": [
           {
            "marker": {
             "colorbar": {
              "outlinewidth": 0,
              "ticks": ""
             }
            },
            "type": "scatterternary"
           }
          ],
          "surface": [
           {
            "colorbar": {
             "outlinewidth": 0,
             "ticks": ""
            },
            "colorscale": [
             [
              0,
              "#0d0887"
             ],
             [
              0.1111111111111111,
              "#46039f"
             ],
             [
              0.2222222222222222,
              "#7201a8"
             ],
             [
              0.3333333333333333,
              "#9c179e"
             ],
             [
              0.4444444444444444,
              "#bd3786"
             ],
             [
              0.5555555555555556,
              "#d8576b"
             ],
             [
              0.6666666666666666,
              "#ed7953"
             ],
             [
              0.7777777777777778,
              "#fb9f3a"
             ],
             [
              0.8888888888888888,
              "#fdca26"
             ],
             [
              1,
              "#f0f921"
             ]
            ],
            "type": "surface"
           }
          ],
          "table": [
           {
            "cells": {
             "fill": {
              "color": "#EBF0F8"
             },
             "line": {
              "color": "white"
             }
            },
            "header": {
             "fill": {
              "color": "#C8D4E3"
             },
             "line": {
              "color": "white"
             }
            },
            "type": "table"
           }
          ]
         },
         "layout": {
          "annotationdefaults": {
           "arrowcolor": "#2a3f5f",
           "arrowhead": 0,
           "arrowwidth": 1
          },
          "autotypenumbers": "strict",
          "coloraxis": {
           "colorbar": {
            "outlinewidth": 0,
            "ticks": ""
           }
          },
          "colorscale": {
           "diverging": [
            [
             0,
             "#8e0152"
            ],
            [
             0.1,
             "#c51b7d"
            ],
            [
             0.2,
             "#de77ae"
            ],
            [
             0.3,
             "#f1b6da"
            ],
            [
             0.4,
             "#fde0ef"
            ],
            [
             0.5,
             "#f7f7f7"
            ],
            [
             0.6,
             "#e6f5d0"
            ],
            [
             0.7,
             "#b8e186"
            ],
            [
             0.8,
             "#7fbc41"
            ],
            [
             0.9,
             "#4d9221"
            ],
            [
             1,
             "#276419"
            ]
           ],
           "sequential": [
            [
             0,
             "#0d0887"
            ],
            [
             0.1111111111111111,
             "#46039f"
            ],
            [
             0.2222222222222222,
             "#7201a8"
            ],
            [
             0.3333333333333333,
             "#9c179e"
            ],
            [
             0.4444444444444444,
             "#bd3786"
            ],
            [
             0.5555555555555556,
             "#d8576b"
            ],
            [
             0.6666666666666666,
             "#ed7953"
            ],
            [
             0.7777777777777778,
             "#fb9f3a"
            ],
            [
             0.8888888888888888,
             "#fdca26"
            ],
            [
             1,
             "#f0f921"
            ]
           ],
           "sequentialminus": [
            [
             0,
             "#0d0887"
            ],
            [
             0.1111111111111111,
             "#46039f"
            ],
            [
             0.2222222222222222,
             "#7201a8"
            ],
            [
             0.3333333333333333,
             "#9c179e"
            ],
            [
             0.4444444444444444,
             "#bd3786"
            ],
            [
             0.5555555555555556,
             "#d8576b"
            ],
            [
             0.6666666666666666,
             "#ed7953"
            ],
            [
             0.7777777777777778,
             "#fb9f3a"
            ],
            [
             0.8888888888888888,
             "#fdca26"
            ],
            [
             1,
             "#f0f921"
            ]
           ]
          },
          "colorway": [
           "#636efa",
           "#EF553B",
           "#00cc96",
           "#ab63fa",
           "#FFA15A",
           "#19d3f3",
           "#FF6692",
           "#B6E880",
           "#FF97FF",
           "#FECB52"
          ],
          "font": {
           "color": "#2a3f5f"
          },
          "geo": {
           "bgcolor": "white",
           "lakecolor": "white",
           "landcolor": "#E5ECF6",
           "showlakes": true,
           "showland": true,
           "subunitcolor": "white"
          },
          "hoverlabel": {
           "align": "left"
          },
          "hovermode": "closest",
          "mapbox": {
           "style": "light"
          },
          "paper_bgcolor": "white",
          "plot_bgcolor": "#E5ECF6",
          "polar": {
           "angularaxis": {
            "gridcolor": "white",
            "linecolor": "white",
            "ticks": ""
           },
           "bgcolor": "#E5ECF6",
           "radialaxis": {
            "gridcolor": "white",
            "linecolor": "white",
            "ticks": ""
           }
          },
          "scene": {
           "xaxis": {
            "backgroundcolor": "#E5ECF6",
            "gridcolor": "white",
            "gridwidth": 2,
            "linecolor": "white",
            "showbackground": true,
            "ticks": "",
            "zerolinecolor": "white"
           },
           "yaxis": {
            "backgroundcolor": "#E5ECF6",
            "gridcolor": "white",
            "gridwidth": 2,
            "linecolor": "white",
            "showbackground": true,
            "ticks": "",
            "zerolinecolor": "white"
           },
           "zaxis": {
            "backgroundcolor": "#E5ECF6",
            "gridcolor": "white",
            "gridwidth": 2,
            "linecolor": "white",
            "showbackground": true,
            "ticks": "",
            "zerolinecolor": "white"
           }
          },
          "shapedefaults": {
           "line": {
            "color": "#2a3f5f"
           }
          },
          "ternary": {
           "aaxis": {
            "gridcolor": "white",
            "linecolor": "white",
            "ticks": ""
           },
           "baxis": {
            "gridcolor": "white",
            "linecolor": "white",
            "ticks": ""
           },
           "bgcolor": "#E5ECF6",
           "caxis": {
            "gridcolor": "white",
            "linecolor": "white",
            "ticks": ""
           }
          },
          "title": {
           "x": 0.05
          },
          "xaxis": {
           "automargin": true,
           "gridcolor": "white",
           "linecolor": "white",
           "ticks": "",
           "title": {
            "standoff": 15
           },
           "zerolinecolor": "white",
           "zerolinewidth": 2
          },
          "yaxis": {
           "automargin": true,
           "gridcolor": "white",
           "linecolor": "white",
           "ticks": "",
           "title": {
            "standoff": 15
           },
           "zerolinecolor": "white",
           "zerolinewidth": 2
          }
         }
        },
        "title": {
         "text": "CCS Proc"
        },
        "xaxis": {
         "anchor": "y",
         "domain": [
          0,
          1
         ],
         "title": {
          "text": "SHORT_TITLE"
         }
        },
        "yaxis": {
         "anchor": "x",
         "domain": [
          0,
          1
         ],
         "title": {
          "text": "Count"
         }
        }
       }
      }
     },
     "metadata": {},
     "output_type": "display_data"
    }
   ],
   "source": [
    "import plotly.express as px\n",
    "result = nom_df.groupby([ \"SHORT_TITLE\"]).size().reset_index(name='Count')\n",
    "result = result.sort_values(by =\"Count\", ascending=False )\n",
    "\n",
    "fig = px.bar(result[:30], x=\"SHORT_TITLE\", y=\"Count\", title='CCS Proc')\n",
    "\n",
    "# Mostrar el gráfico\n",
    "fig.show()"
   ]
  },
  {
   "cell_type": "code",
   "execution_count": null,
   "id": "ec6e610b",
   "metadata": {},
   "outputs": [],
   "source": []
  },
  {
   "attachments": {},
   "cell_type": "markdown",
   "id": "fd066b3e",
   "metadata": {},
   "source": [
    "#### Top ICD 9 codes based on \"subject_id\" count"
   ]
  },
  {
   "attachments": {},
   "cell_type": "markdown",
   "id": "90e20e3a",
   "metadata": {},
   "source": [
    "# Appear min count times"
   ]
  },
  {
   "attachments": {},
   "cell_type": "markdown",
   "id": "29a4913b",
   "metadata": {},
   "source": [
    "### Plot the cumulative function of ICDE-9 codes in the histograms and fix a threshold for the"
   ]
  },
  {
   "cell_type": "code",
   "execution_count": 93,
   "id": "e51310c8",
   "metadata": {},
   "outputs": [],
   "source": [
    "import matplotlib.pyplot as plt\n",
    "import pandas as pd\n",
    "\n",
    "# Sample ICD-9 codes (replace this with your actual data)\n",
    "\n",
    "\n",
    "def cumulative_plot(icd9_codes, num_bins,threshold_value,cat):\n",
    "    # Create a DataFrame with ICD-9 codes and their frequencies\n",
    "    icd9_df = pd.DataFrame(icd9_codes, columns=['ICD-9 Code'])\n",
    "    icd9_df['Frequency'] = icd9_df['ICD-9 Code'].map(icd9_df['ICD-9 Code'].value_counts())\n",
    "    icd9_df= icd9_df.sort_values(by='Frequency', ascending=False)\n",
    "\n",
    "    # Drop duplicate rows to get unique ICD-9 codes and their frequencies\n",
    "    unique_icd9_df = icd9_df.drop_duplicates().sort_values(by='Frequency', ascending=False)\n",
    "\n",
    "    # Calculate cumulative frequency percentage\n",
    "    unique_icd9_df['Cumulative Frequency'] = unique_icd9_df['Frequency'].cumsum()\n",
    "    total_frequency = unique_icd9_df['Cumulative Frequency'].iloc[-1]\n",
    "    unique_icd9_df['Cumulative F percentage'] = unique_icd9_df['Cumulative Frequency'] / total_frequency\n",
    "\n",
    "    # Create the plot using Matplotlib\n",
    "    fig, ax1 = plt.subplots(figsize=(10, 6))  # Adjust the figsize as needed\n",
    "\n",
    "    # Histogram with fewer bins\n",
    "      # Adjust the number of bins\n",
    "    n, bins, patches = ax1.hist(icd9_df['ICD-9 Code'], bins=num_bins, color='blue', alpha=0.7)\n",
    "    ax1.set_xlabel('ICD-9 Codes')\n",
    "    ax1.set_ylabel('Frequency', color='blue')\n",
    "\n",
    "    # Add a vertical dashed line at the threshold value\n",
    "\n",
    "    threshold_x_value = unique_icd9_df[unique_icd9_df[\"Cumulative F percentage\"] >= threshold_value].sort_values(by=\"Cumulative F percentage\", ascending=False).iloc[-1]['ICD-9 Code']\n",
    "    \n",
    "    bins_before_threshold = unique_icd9_df[unique_icd9_df[\"Cumulative F percentage\"] < threshold_value].sort_values(by=\"Cumulative F percentage\", ascending=False)['ICD-9 Code'].nunique()\n",
    "    bins_before_threshold_i = unique_icd9_df[unique_icd9_df[\"Cumulative F percentage\"] < threshold_value].sort_values(by=\"Cumulative F percentage\", ascending=False)['ICD-9 Code'].unique()\n",
    "\n",
    "        \n",
    "    ax1.axvline(x=threshold_x_value, color='red', linestyle='--', linewidth=2, label='Threshold: ' + str(threshold_value) )\n",
    "    ax1.annotate(f'{bins_before_threshold} Bins Before Threshold', xy=(threshold_x_value, 0), xytext=(10, 20), textcoords='offset points', fontsize=10, color='red')\n",
    "\n",
    "        \n",
    "    \n",
    "    #percentage = count / total_frequency * 100\n",
    "    #ax1.annotate(f'\\n{i}', xy=(bins[i] + (bins[i+1] - bins[i])/2, count), ha='center', va='bottom', fontsize=10)\n",
    "        #ax1.annotate(f'{int(count)}', xy=(bins[i] + (bins[i+1] - bins[i])/2, count), ha='center', va='bottom', fontsize=10, )\n",
    "\n",
    "    # Customize the plot\n",
    "    ax1.set_title('Histogram of:' +str(cat))\n",
    "    ax1.legend(loc='upper right')\n",
    "\n",
    "\n",
    "\n",
    "    # Create a secondary y-axis for cumulative frequency\n",
    "    ax2 = ax1.twinx()\n",
    "    ax2.plot(unique_icd9_df['ICD-9 Code'], unique_icd9_df['Cumulative F percentage'], color='green', label='Cumulative Frequency')\n",
    "    ax2.set_ylabel('Cumulative Frequency', color='green')\n",
    "    ax2.legend(loc='upper right')\n",
    "\n",
    "    legend_position = (1, .2)  # Adjust the position as needed\n",
    "    ax1.legend(loc='upper right', bbox_to_anchor=legend_position)\n",
    "    ax2.legend(loc='lower right', bbox_to_anchor=legend_position)\n",
    "\n",
    "    # Hide x-axis tick labels\n",
    "    ax1.set_xticks([])\n",
    "\n",
    "    # Show the plot\n",
    "    plt.tight_layout()  # Adjust layout for labels\n",
    "    plt.show()\n",
    "    return bins_before_threshold,bins_before_threshold_i"
   ]
  },
  {
   "cell_type": "code",
   "execution_count": 14,
   "id": "c05216c1",
   "metadata": {},
   "outputs": [
    {
     "data": {
      "text/plain": [
       "1526"
      ]
     },
     "execution_count": 14,
     "metadata": {},
     "output_type": "execute_result"
    }
   ],
   "source": [
    "nuevo_df[\"ICD9_CODE\"].nunique()"
   ]
  },
  {
   "cell_type": "code",
   "execution_count": 94,
   "id": "0cc36e41",
   "metadata": {},
   "outputs": [],
   "source": [
    "thresh = [.88,.98,.95,.999]"
   ]
  },
  {
   "cell_type": "code",
   "execution_count": 95,
   "id": "2033fecb",
   "metadata": {},
   "outputs": [
    {
     "data": {
      "image/png": "[encoded data removed]",
      "text/plain": [
       "<Figure size 720x432 with 2 Axes>"
      ]
     },
     "metadata": {
      "needs_background": "light"
     },
     "output_type": "display_data"
    },
    {
     "data": {
      "image/png": "[encoded data removed]",
      "text/plain": [
       "<Figure size 720x432 with 2 Axes>"
      ]
     },
     "metadata": {
      "needs_background": "light"
     },
     "output_type": "display_data"
    },
    {
     "data": {
      "image/png": "[encoded data removed]",
      "text/plain": [
       "<Figure size 720x432 with 2 Axes>"
      ]
     },
     "metadata": {
      "needs_background": "light"
     },
     "output_type": "display_data"
    },
    {
     "data": {
      "image/png": "[encoded data removed]",
      "text/plain": [
       "<Figure size 720x432 with 2 Axes>"
      ]
     },
     "metadata": {
      "needs_background": "light"
     },
     "output_type": "display_data"
    }
   ],
   "source": [
    "bins_before_threshold = []\n",
    "bins_before_threshold_index = []\n",
    "num_bins = len(nuevo_df[\"ICD9_CODE\"].unique())\n",
    "icd9_codes = list(nuevo_df[\"ICD9_CODE\"])\n",
    "for i in thresh:\n",
    "    a,b = cumulative_plot(icd9_codes, num_bins,i,i)\n",
    "    bins_before_threshold.append(a)\n",
    "    bins_before_threshold_index.extend(list(b))\n"
   ]
  },
  {
   "attachments": {},
   "cell_type": "markdown",
   "id": "c07ce1cb",
   "metadata": {},
   "source": [
    "### Se agrega al DF"
   ]
  },
  {
   "cell_type": "code",
   "execution_count": 112,
   "id": "b4ef1888",
   "metadata": {},
   "outputs": [
    {
     "data": {
      "text/plain": [
       "443"
      ]
     },
     "execution_count": 112,
     "metadata": {},
     "output_type": "execute_result"
    }
   ],
   "source": [
    "len(bins_before_threshold_index)"
   ]
  },
  {
   "cell_type": "code",
   "execution_count": 113,
   "id": "565c335f",
   "metadata": {},
   "outputs": [
    {
     "data": {
      "text/plain": [
       "240095"
      ]
     },
     "execution_count": 113,
     "metadata": {},
     "output_type": "execute_result"
    }
   ],
   "source": [
    "len(icd9_codes)"
   ]
  },
  {
   "cell_type": "code",
   "execution_count": 123,
   "id": "3e8e7575",
   "metadata": {},
   "outputs": [
    {
     "data": {
      "image/png": "[encoded data removed]",
      "text/plain": [
       "<Figure size 720x432 with 2 Axes>"
      ]
     },
     "metadata": {
      "needs_background": "light"
     },
     "output_type": "display_data"
    }
   ],
   "source": [
    "bins_before_threshold = []\n",
    "bins_before_threshold_index = []\n",
    "num_bins = len(nuevo_df[\"ICD9_CODE\"].unique())\n",
    "icd9_codes = list(nuevo_df[\"ICD9_CODE\"])\n",
    "\n",
    "a,b = cumulative_plot(icd9_codes, num_bins,.88,i)\n",
    "bins_before_threshold.append(a)\n",
    "bins_before_threshold_index.extend(list(b))"
   ]
  },
  {
   "cell_type": "code",
   "execution_count": 124,
   "id": "32848668",
   "metadata": {},
   "outputs": [
    {
     "name": "stdout",
     "output_type": "stream",
     "text": [
      "0         3404\n",
      "1         3404\n",
      "2         3404\n",
      "3         3404\n",
      "4         3404\n",
      "          ... \n",
      "240090      -1\n",
      "240091      -1\n",
      "240092      -1\n",
      "240093      -1\n",
      "240094      -1\n",
      "Name: ICD9_CODE, Length: 240095, dtype: object\n"
     ]
    }
   ],
   "source": [
    "def asignar_valor(series, lista_especifica):\n",
    "    # Usamos una comprensión de lista para asignar \"Otro\" a los valores que no están en la lista\n",
    "    nueva_serie = series.apply(lambda x: x if x in lista_especifica else -1)\n",
    "    return nueva_serie\n",
    "\n",
    "# Ejemplo de una serie y una lista específica\n",
    "serie_original = nuevo_df[\"ICD9_CODE\"]\n",
    "lista_especifica = bins_before_threshold_index\n",
    "\n",
    "# Llama a la función para asignar valores\n",
    "\n",
    "serie_modificada = asignar_valor(serie_original, lista_especifica)\n",
    "\n",
    "# Muestra la serie modificada\n",
    "print(serie_modificada)"
   ]
  },
  {
   "cell_type": "code",
   "execution_count": 125,
   "id": "d50237e1",
   "metadata": {},
   "outputs": [
    {
     "name": "stdout",
     "output_type": "stream",
     "text": [
      "216\n",
      "-1      28928\n",
      "3893    14731\n",
      "9604    10333\n",
      "966      9300\n",
      "9671     9100\n",
      "        ...  \n",
      "3492      133\n",
      "3951      132\n",
      "8099      132\n",
      "5012      132\n",
      "4823      129\n",
      "Name: ICD9_CODE, Length: 216, dtype: int64\n"
     ]
    },
    {
     "data": {
      "text/plain": [
       "215"
      ]
     },
     "execution_count": 125,
     "metadata": {},
     "output_type": "execute_result"
    }
   ],
   "source": [
    "print(serie_modificada.nunique())\n",
    "print(serie_modificada.value_counts())\n",
    "len(bins_before_threshold_index)"
   ]
  },
  {
   "cell_type": "code",
   "execution_count": 126,
   "id": "4ac1f91b",
   "metadata": {},
   "outputs": [],
   "source": [
    "nuevo_df[\"cat_threshold .88 most frequent\"]= serie_modificada"
   ]
  },
  {
   "cell_type": "code",
   "execution_count": 127,
   "id": "3edf80e4",
   "metadata": {},
   "outputs": [
    {
     "data": {
      "text/html": [
       "<div>\n",
       "<style scoped>\n",
       "    .dataframe tbody tr th:only-of-type {\n",
       "        vertical-align: middle;\n",
       "    }\n",
       "\n",
       "    .dataframe tbody tr th {\n",
       "        vertical-align: top;\n",
       "    }\n",
       "\n",
       "    .dataframe thead th {\n",
       "        text-align: right;\n",
       "    }\n",
       "</style>\n",
       "<table border=\"1\" class=\"dataframe\">\n",
       "  <thead>\n",
       "    <tr style=\"text-align: right;\">\n",
       "      <th></th>\n",
       "      <th>SUBJECT_ID</th>\n",
       "      <th>HADM_ID</th>\n",
       "      <th>ICD9_CODE</th>\n",
       "      <th>'ICD-9-CM CODE'</th>\n",
       "      <th>'CCS CATEGORY'</th>\n",
       "      <th>'CCS CATEGORY DESCRIPTION'</th>\n",
       "      <th>'ICD-9-CM CODE DESCRIPTION'</th>\n",
       "      <th>CCS CODES</th>\n",
       "      <th>LEVE3 CODES</th>\n",
       "      <th>cat_threshold .999 most frequent</th>\n",
       "      <th>cat_threshold .95 most frequent</th>\n",
       "      <th>cat_threshold .98 most frequent</th>\n",
       "      <th>cat_threshold .88 most frequent</th>\n",
       "    </tr>\n",
       "  </thead>\n",
       "  <tbody>\n",
       "    <tr>\n",
       "      <th>0</th>\n",
       "      <td>62641</td>\n",
       "      <td>154460</td>\n",
       "      <td>3404</td>\n",
       "      <td>'3404 '</td>\n",
       "      <td>'39 '</td>\n",
       "      <td>'Thoracentesi     '</td>\n",
       "      <td>INSERT INTERCOSTAL CATH</td>\n",
       "      <td>'39'</td>\n",
       "      <td>340</td>\n",
       "      <td>3404</td>\n",
       "      <td>3404</td>\n",
       "      <td>3404</td>\n",
       "      <td>3404</td>\n",
       "    </tr>\n",
       "    <tr>\n",
       "      <th>1</th>\n",
       "      <td>11143</td>\n",
       "      <td>101985</td>\n",
       "      <td>3404</td>\n",
       "      <td>'3404 '</td>\n",
       "      <td>'39 '</td>\n",
       "      <td>'Thoracentesi     '</td>\n",
       "      <td>INSERT INTERCOSTAL CATH</td>\n",
       "      <td>'39'</td>\n",
       "      <td>967</td>\n",
       "      <td>3404</td>\n",
       "      <td>3404</td>\n",
       "      <td>3404</td>\n",
       "      <td>3404</td>\n",
       "    </tr>\n",
       "    <tr>\n",
       "      <th>2</th>\n",
       "      <td>9736</td>\n",
       "      <td>160259</td>\n",
       "      <td>3404</td>\n",
       "      <td>'3404 '</td>\n",
       "      <td>'39 '</td>\n",
       "      <td>'Thoracentesi     '</td>\n",
       "      <td>INSERT INTERCOSTAL CATH</td>\n",
       "      <td>'39'</td>\n",
       "      <td>389</td>\n",
       "      <td>3404</td>\n",
       "      <td>3404</td>\n",
       "      <td>3404</td>\n",
       "      <td>3404</td>\n",
       "    </tr>\n",
       "    <tr>\n",
       "      <th>3</th>\n",
       "      <td>7546</td>\n",
       "      <td>147476</td>\n",
       "      <td>3404</td>\n",
       "      <td>'3404 '</td>\n",
       "      <td>'39 '</td>\n",
       "      <td>'Thoracentesi     '</td>\n",
       "      <td>INSERT INTERCOSTAL CATH</td>\n",
       "      <td>'39'</td>\n",
       "      <td>967</td>\n",
       "      <td>3404</td>\n",
       "      <td>3404</td>\n",
       "      <td>3404</td>\n",
       "      <td>3404</td>\n",
       "    </tr>\n",
       "    <tr>\n",
       "      <th>4</th>\n",
       "      <td>65535</td>\n",
       "      <td>178280</td>\n",
       "      <td>3404</td>\n",
       "      <td>'3404 '</td>\n",
       "      <td>'39 '</td>\n",
       "      <td>'Thoracentesi     '</td>\n",
       "      <td>INSERT INTERCOSTAL CATH</td>\n",
       "      <td>'39'</td>\n",
       "      <td>033</td>\n",
       "      <td>3404</td>\n",
       "      <td>3404</td>\n",
       "      <td>3404</td>\n",
       "      <td>3404</td>\n",
       "    </tr>\n",
       "    <tr>\n",
       "      <th>...</th>\n",
       "      <td>...</td>\n",
       "      <td>...</td>\n",
       "      <td>...</td>\n",
       "      <td>...</td>\n",
       "      <td>...</td>\n",
       "      <td>...</td>\n",
       "      <td>...</td>\n",
       "      <td>...</td>\n",
       "      <td>...</td>\n",
       "      <td>...</td>\n",
       "      <td>...</td>\n",
       "      <td>...</td>\n",
       "      <td>...</td>\n",
       "    </tr>\n",
       "    <tr>\n",
       "      <th>240090</th>\n",
       "      <td>57215</td>\n",
       "      <td>181872</td>\n",
       "      <td>8690</td>\n",
       "      <td>'8690 '</td>\n",
       "      <td>'175'</td>\n",
       "      <td>'OR Rx skin       '</td>\n",
       "      <td>Ext fat for grft/banking (Begin 2010)</td>\n",
       "      <td>'175'</td>\n",
       "      <td>373</td>\n",
       "      <td>-1</td>\n",
       "      <td>-1</td>\n",
       "      <td>-1</td>\n",
       "      <td>-1</td>\n",
       "    </tr>\n",
       "    <tr>\n",
       "      <th>240091</th>\n",
       "      <td>70131</td>\n",
       "      <td>146957</td>\n",
       "      <td>8235</td>\n",
       "      <td>'8235 '</td>\n",
       "      <td>'160'</td>\n",
       "      <td>'Rx prs musc      '</td>\n",
       "      <td>HAND FASCIECTOMY NEC</td>\n",
       "      <td>'160'</td>\n",
       "      <td>389</td>\n",
       "      <td>8235</td>\n",
       "      <td>-1</td>\n",
       "      <td>-1</td>\n",
       "      <td>-1</td>\n",
       "    </tr>\n",
       "    <tr>\n",
       "      <th>240092</th>\n",
       "      <td>70131</td>\n",
       "      <td>146957</td>\n",
       "      <td>8235</td>\n",
       "      <td>'8235 '</td>\n",
       "      <td>'160'</td>\n",
       "      <td>'Rx prs musc      '</td>\n",
       "      <td>HAND FASCIECTOMY NEC</td>\n",
       "      <td>'160'</td>\n",
       "      <td>887</td>\n",
       "      <td>8235</td>\n",
       "      <td>-1</td>\n",
       "      <td>-1</td>\n",
       "      <td>-1</td>\n",
       "    </tr>\n",
       "    <tr>\n",
       "      <th>240093</th>\n",
       "      <td>40548</td>\n",
       "      <td>168670</td>\n",
       "      <td>0693</td>\n",
       "      <td>'0693 '</td>\n",
       "      <td>'12 '</td>\n",
       "      <td>'Ot Rx endoc      '</td>\n",
       "      <td>THYROID SUTURE</td>\n",
       "      <td>'12'</td>\n",
       "      <td>389</td>\n",
       "      <td>-1</td>\n",
       "      <td>-1</td>\n",
       "      <td>-1</td>\n",
       "      <td>-1</td>\n",
       "    </tr>\n",
       "    <tr>\n",
       "      <th>240094</th>\n",
       "      <td>40811</td>\n",
       "      <td>179323</td>\n",
       "      <td>3837</td>\n",
       "      <td>'3837 '</td>\n",
       "      <td>'61 '</td>\n",
       "      <td>'Ot vessels       '</td>\n",
       "      <td>ABD VEIN RESECT &amp; ANAST</td>\n",
       "      <td>'61'</td>\n",
       "      <td>372</td>\n",
       "      <td>-1</td>\n",
       "      <td>-1</td>\n",
       "      <td>-1</td>\n",
       "      <td>-1</td>\n",
       "    </tr>\n",
       "  </tbody>\n",
       "</table>\n",
       "<p>240095 rows × 13 columns</p>\n",
       "</div>"
      ],
      "text/plain": [
       "       SUBJECT_ID HADM_ID ICD9_CODE 'ICD-9-CM CODE' 'CCS CATEGORY'  \\\n",
       "0           62641  154460      3404         '3404 '          '39 '   \n",
       "1           11143  101985      3404         '3404 '          '39 '   \n",
       "2            9736  160259      3404         '3404 '          '39 '   \n",
       "3            7546  147476      3404         '3404 '          '39 '   \n",
       "4           65535  178280      3404         '3404 '          '39 '   \n",
       "...           ...     ...       ...             ...            ...   \n",
       "240090      57215  181872      8690         '8690 '          '175'   \n",
       "240091      70131  146957      8235         '8235 '          '160'   \n",
       "240092      70131  146957      8235         '8235 '          '160'   \n",
       "240093      40548  168670      0693         '0693 '          '12 '   \n",
       "240094      40811  179323      3837         '3837 '          '61 '   \n",
       "\n",
       "       'CCS CATEGORY DESCRIPTION'            'ICD-9-CM CODE DESCRIPTION'  \\\n",
       "0             'Thoracentesi     '                INSERT INTERCOSTAL CATH   \n",
       "1             'Thoracentesi     '                INSERT INTERCOSTAL CATH   \n",
       "2             'Thoracentesi     '                INSERT INTERCOSTAL CATH   \n",
       "3             'Thoracentesi     '                INSERT INTERCOSTAL CATH   \n",
       "4             'Thoracentesi     '                INSERT INTERCOSTAL CATH   \n",
       "...                           ...                                    ...   \n",
       "240090        'OR Rx skin       '  Ext fat for grft/banking (Begin 2010)   \n",
       "240091        'Rx prs musc      '                   HAND FASCIECTOMY NEC   \n",
       "240092        'Rx prs musc      '                   HAND FASCIECTOMY NEC   \n",
       "240093        'Ot Rx endoc      '                         THYROID SUTURE   \n",
       "240094        'Ot vessels       '                ABD VEIN RESECT & ANAST   \n",
       "\n",
       "       CCS CODES LEVE3 CODES cat_threshold .999 most frequent  \\\n",
       "0           '39'         340                             3404   \n",
       "1           '39'         967                             3404   \n",
       "2           '39'         389                             3404   \n",
       "3           '39'         967                             3404   \n",
       "4           '39'         033                             3404   \n",
       "...          ...         ...                              ...   \n",
       "240090     '175'         373                               -1   \n",
       "240091     '160'         389                             8235   \n",
       "240092     '160'         887                             8235   \n",
       "240093      '12'         389                               -1   \n",
       "240094      '61'         372                               -1   \n",
       "\n",
       "       cat_threshold .95 most frequent cat_threshold .98 most frequent  \\\n",
       "0                                 3404                            3404   \n",
       "1                                 3404                            3404   \n",
       "2                                 3404                            3404   \n",
       "3                                 3404                            3404   \n",
       "4                                 3404                            3404   \n",
       "...                                ...                             ...   \n",
       "240090                              -1                              -1   \n",
       "240091                              -1                              -1   \n",
       "240092                              -1                              -1   \n",
       "240093                              -1                              -1   \n",
       "240094                              -1                              -1   \n",
       "\n",
       "       cat_threshold .88 most frequent  \n",
       "0                                 3404  \n",
       "1                                 3404  \n",
       "2                                 3404  \n",
       "3                                 3404  \n",
       "4                                 3404  \n",
       "...                                ...  \n",
       "240090                              -1  \n",
       "240091                              -1  \n",
       "240092                              -1  \n",
       "240093                              -1  \n",
       "240094                              -1  \n",
       "\n",
       "[240095 rows x 13 columns]"
      ]
     },
     "execution_count": 127,
     "metadata": {},
     "output_type": "execute_result"
    }
   ],
   "source": [
    "nuevo_df"
   ]
  },
  {
   "cell_type": "code",
   "execution_count": 128,
   "id": "a6681d34",
   "metadata": {},
   "outputs": [
    {
     "data": {
      "text/plain": [
       "(28928, 13)"
      ]
     },
     "execution_count": 128,
     "metadata": {},
     "output_type": "execute_result"
    }
   ],
   "source": [
    "nuevo_df[nuevo_df[\"cat_threshold .88 most frequent\"]==-1].shape"
   ]
  },
  {
   "cell_type": "code",
   "execution_count": 122,
   "id": "e97a42a7",
   "metadata": {},
   "outputs": [
    {
     "data": {
      "text/plain": [
       "(241, 12)"
      ]
     },
     "execution_count": 122,
     "metadata": {},
     "output_type": "execute_result"
    }
   ],
   "source": [
    "nuevo_df[nuevo_df[\"cat_threshold .999 most frequent\"]==-1].shape"
   ]
  },
  {
   "cell_type": "code",
   "execution_count": 40,
   "id": "a9f20744",
   "metadata": {},
   "outputs": [
    {
     "data": {
      "text/plain": [
       "(81755, 3)"
      ]
     },
     "execution_count": 40,
     "metadata": {},
     "output_type": "execute_result"
    }
   ],
   "source": [
    "aux.shape"
   ]
  },
  {
   "cell_type": "code",
   "execution_count": 129,
   "id": "c6e9a903",
   "metadata": {},
   "outputs": [],
   "source": [
    "#nuevo_df.to_csv(\"procedures_preprocess.csv\")\n",
    "nuevo_df.to_csv(\"procedures_preprocess_threshold_nonfiltered.csv\")"
   ]
  },
  {
   "attachments": {},
   "cell_type": "markdown",
   "id": "7f83cea3",
   "metadata": {},
   "source": []
  },
  {
   "cell_type": "code",
   "execution_count": null,
   "id": "ba5af3e9",
   "metadata": {},
   "outputs": [],
   "source": []
  }
 ],
 "metadata": {
  "kernelspec": {
   "display_name": "Python 3 (ipykernel)",
   "language": "python",
   "name": "python3"
  },
  "language_info": {
   "codemirror_mode": {
    "name": "ipython",
    "version": 3
   },
   "file_extension": ".py",
   "mimetype": "text/x-python",
   "name": "python",
   "nbconvert_exporter": "python",
   "pygments_lexer": "ipython3",
   "version": "3.9.13"
  }
 },
 "nbformat": 4,
 "nbformat_minor": 5
}
